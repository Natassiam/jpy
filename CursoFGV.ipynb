{
  "nbformat": 4,
  "nbformat_minor": 0,
  "metadata": {
    "colab": {
      "name": "CursoFGV.ipynb",
      "provenance": [],
      "authorship_tag": "ABX9TyOvgDAkFeNZLfqc/xSQq+NF",
      "include_colab_link": true
    },
    "kernelspec": {
      "name": "python3",
      "display_name": "Python 3"
    }
  },
  "cells": [
    {
      "cell_type": "markdown",
      "metadata": {
        "id": "view-in-github",
        "colab_type": "text"
      },
      "source": [
        "<a href=\"https://colab.research.google.com/github/Natassiam/jpy/blob/master/CursoFGV.ipynb\" target=\"_parent\"><img src=\"https://colab.research.google.com/assets/colab-badge.svg\" alt=\"Open In Colab\"/></a>"
      ]
    },
    {
      "cell_type": "code",
      "metadata": {
        "id": "vcWC_6weKk1F",
        "colab_type": "code",
        "colab": {}
      },
      "source": [
        "import pandas as pd\n",
        "import numpy as np"
      ],
      "execution_count": 2,
      "outputs": []
    },
    {
      "cell_type": "code",
      "metadata": {
        "id": "HZjjHrotKwQx",
        "colab_type": "code",
        "colab": {}
      },
      "source": [
        "df = pd.read_csv('dados_fenotipo.csv')"
      ],
      "execution_count": 3,
      "outputs": []
    },
    {
      "cell_type": "code",
      "metadata": {
        "id": "lIbU9enuMKVj",
        "colab_type": "code",
        "colab": {
          "base_uri": "https://localhost:8080/",
          "height": 884
        },
        "outputId": "cb168f0b-7539-4c81-eaf7-a6aebc3d9e95"
      },
      "source": [
        "df.head"
      ],
      "execution_count": 4,
      "outputs": [
        {
          "output_type": "execute_result",
          "data": {
            "text/plain": [
              "<bound method NDFrame.head of        Peso  Altura  Cor Olho Cor Cabelo\n",
              "0     6.546    1.85      azul      loiro\n",
              "1    46.830    1.19      azul      loiro\n",
              "2   119.660    2.18  castanho      preto\n",
              "3    83.540    1.78  castanho      preto\n",
              "4   121.390    1.56      azul      preto\n",
              "5    48.210    1.61  castanho   castanho\n",
              "6    78.760    1.65     verde      preto\n",
              "7   104.460    1.83      azul      preto\n",
              "8   110.970    1.01  castanho      preto\n",
              "9    76.570    1.08  castanho      preto\n",
              "10  119.190    1.57  castanho      loiro\n",
              "11   62.490    1.05     verde      loiro\n",
              "12   62.720    1.44      azul   castanho\n",
              "13  100.010    1.79     verde      loiro\n",
              "14   96.160    1.98      azul   castanho\n",
              "15   88.140    1.13      azul      preto\n",
              "16   56.830    1.77     verde      preto\n",
              "17  163.910    1.19     verde      loiro\n",
              "18   44.490    1.82  castanho   castanho\n",
              "19   80.390    1.77  castanho      preto\n",
              "20  100.290    1.29     verde      loiro\n",
              "21   75.240    2.02      azul      preto\n",
              "22   81.330    1.80      azul      preto\n",
              "23  143.590    1.79      azul      loiro\n",
              "24   85.840    1.75  castanho      preto\n",
              "25   60.490    1.96      azul      preto\n",
              "26   26.810    1.45      azul      preto\n",
              "27   82.250    1.62      azul      loiro\n",
              "28   72.920    1.79      azul   castanho\n",
              "29  103.920    1.66     verde      loiro\n",
              "30   74.720    1.79      azul   castanho\n",
              "31  116.550    1.69     verde   castanho\n",
              "32   81.160    1.32  castanho   castanho\n",
              "33  103.920    1.83     verde      loiro\n",
              "34   92.490    2.01     verde      preto\n",
              "35   50.040    1.55  castanho      preto\n",
              "36   64.890    1.75  castanho      loiro\n",
              "37  114.360    1.62      azul      loiro\n",
              "38  129.080    1.64  castanho      preto\n",
              "39  142.970    1.69      azul      loiro\n",
              "40   97.320    1.60  castanho   castanho\n",
              "41  102.510    2.00  castanho   castanho\n",
              "42   80.960    1.74     verde      loiro\n",
              "43   58.750    1.74  castanho      preto\n",
              "44   78.450    1.67  castanho      loiro\n",
              "45   28.920    1.48      azul      loiro\n",
              "46   99.330    1.80  castanho      loiro\n",
              "47   40.170    2.10  castanho   castanho\n",
              "48   85.010    1.57      azul      preto\n",
              "49   41.290    1.71      azul   castanho>"
            ]
          },
          "metadata": {
            "tags": []
          },
          "execution_count": 4
        }
      ]
    },
    {
      "cell_type": "code",
      "metadata": {
        "id": "tQlXH_EsMQDZ",
        "colab_type": "code",
        "colab": {
          "base_uri": "https://localhost:8080/",
          "height": 68
        },
        "outputId": "1d48309f-3ceb-4340-f478-c00ac6f83311"
      },
      "source": [
        "df.mean()\n"
      ],
      "execution_count": 13,
      "outputs": [
        {
          "output_type": "execute_result",
          "data": {
            "text/plain": [
              "Peso      83.73672\n",
              "Altura     1.65360\n",
              "dtype: float64"
            ]
          },
          "metadata": {
            "tags": []
          },
          "execution_count": 13
        }
      ]
    },
    {
      "cell_type": "code",
      "metadata": {
        "id": "cfyDq6CZOg6v",
        "colab_type": "code",
        "colab": {
          "base_uri": "https://localhost:8080/",
          "height": 68
        },
        "outputId": "5c205c17-2bef-48ee-c56e-041a045c00fa"
      },
      "source": [
        "df.median()"
      ],
      "execution_count": 14,
      "outputs": [
        {
          "output_type": "execute_result",
          "data": {
            "text/plain": [
              "Peso      81.79\n",
              "Altura     1.70\n",
              "dtype: float64"
            ]
          },
          "metadata": {
            "tags": []
          },
          "execution_count": 14
        }
      ]
    },
    {
      "cell_type": "code",
      "metadata": {
        "id": "6KbhMxHVO8tq",
        "colab_type": "code",
        "colab": {
          "base_uri": "https://localhost:8080/",
          "height": 111
        },
        "outputId": "450205a5-ba78-4c7a-86dd-0a9b0525bd15"
      },
      "source": [
        "df.quantile([.25, .75])\n"
      ],
      "execution_count": 15,
      "outputs": [
        {
          "output_type": "execute_result",
          "data": {
            "text/html": [
              "<div>\n",
              "<style scoped>\n",
              "    .dataframe tbody tr th:only-of-type {\n",
              "        vertical-align: middle;\n",
              "    }\n",
              "\n",
              "    .dataframe tbody tr th {\n",
              "        vertical-align: top;\n",
              "    }\n",
              "\n",
              "    .dataframe thead th {\n",
              "        text-align: right;\n",
              "    }\n",
              "</style>\n",
              "<table border=\"1\" class=\"dataframe\">\n",
              "  <thead>\n",
              "    <tr style=\"text-align: right;\">\n",
              "      <th></th>\n",
              "      <th>Peso</th>\n",
              "      <th>Altura</th>\n",
              "    </tr>\n",
              "  </thead>\n",
              "  <tbody>\n",
              "    <tr>\n",
              "      <th>0.25</th>\n",
              "      <td>62.5475</td>\n",
              "      <td>1.5625</td>\n",
              "    </tr>\n",
              "    <tr>\n",
              "      <th>0.75</th>\n",
              "      <td>103.5675</td>\n",
              "      <td>1.7975</td>\n",
              "    </tr>\n",
              "  </tbody>\n",
              "</table>\n",
              "</div>"
            ],
            "text/plain": [
              "          Peso  Altura\n",
              "0.25   62.5475  1.5625\n",
              "0.75  103.5675  1.7975"
            ]
          },
          "metadata": {
            "tags": []
          },
          "execution_count": 15
        }
      ]
    },
    {
      "cell_type": "code",
      "metadata": {
        "id": "HL-crQ_7PWm2",
        "colab_type": "code",
        "colab": {
          "base_uri": "https://localhost:8080/",
          "height": 68
        },
        "outputId": "771c9d8f-458e-448a-e81b-02d1c470e267"
      },
      "source": [
        "df.std()"
      ],
      "execution_count": 16,
      "outputs": [
        {
          "output_type": "execute_result",
          "data": {
            "text/plain": [
              "Peso      31.900531\n",
              "Altura     0.271036\n",
              "dtype: float64"
            ]
          },
          "metadata": {
            "tags": []
          },
          "execution_count": 16
        }
      ]
    },
    {
      "cell_type": "code",
      "metadata": {
        "id": "VoMnNp5VPq7m",
        "colab_type": "code",
        "colab": {
          "base_uri": "https://localhost:8080/",
          "height": 102
        },
        "outputId": "48bf417c-7f6f-401e-acd3-b13500fa7123"
      },
      "source": [
        "df.count()"
      ],
      "execution_count": 18,
      "outputs": [
        {
          "output_type": "execute_result",
          "data": {
            "text/plain": [
              "Peso          50\n",
              "Altura        50\n",
              "Cor Olho      50\n",
              "Cor Cabelo    50\n",
              "dtype: int64"
            ]
          },
          "metadata": {
            "tags": []
          },
          "execution_count": 18
        }
      ]
    },
    {
      "cell_type": "code",
      "metadata": {
        "id": "ZAMBJ_WKP_s3",
        "colab_type": "code",
        "colab": {
          "base_uri": "https://localhost:8080/",
          "height": 34
        },
        "outputId": "79b885cf-0769-4557-991b-39e93a040e81"
      },
      "source": [
        "nlinhas = sum( 1 for line in open('dados_fenotipo.csv') if \"azul\" in line )\n",
        "print(nlinhas)"
      ],
      "execution_count": 19,
      "outputs": [
        {
          "output_type": "stream",
          "text": [
            "20\n"
          ],
          "name": "stdout"
        }
      ]
    },
    {
      "cell_type": "code",
      "metadata": {
        "id": "Q7cfYLz3Rgec",
        "colab_type": "code",
        "colab": {
          "base_uri": "https://localhost:8080/",
          "height": 204
        },
        "outputId": "d3e85ef4-52cd-41e2-a00f-a0e583e366dd"
      },
      "source": [
        "df.groupby(['Cor Olho', 'Cor Cabelo']).size()"
      ],
      "execution_count": 27,
      "outputs": [
        {
          "output_type": "execute_result",
          "data": {
            "text/plain": [
              "Cor Olho  Cor Cabelo\n",
              "azul      castanho      5\n",
              "          loiro         7\n",
              "          preto         8\n",
              "castanho  castanho      6\n",
              "          loiro         4\n",
              "          preto         9\n",
              "verde     castanho      1\n",
              "          loiro         7\n",
              "          preto         3\n",
              "dtype: int64"
            ]
          },
          "metadata": {
            "tags": []
          },
          "execution_count": 27
        }
      ]
    },
    {
      "cell_type": "code",
      "metadata": {
        "id": "YMSAVZHyTHND",
        "colab_type": "code",
        "colab": {}
      },
      "source": [
        "import matplotlib.pyplot as plt"
      ],
      "execution_count": 28,
      "outputs": []
    },
    {
      "cell_type": "code",
      "metadata": {
        "id": "LP6tHrwATLwe",
        "colab_type": "code",
        "colab": {
          "base_uri": "https://localhost:8080/",
          "height": 265
        },
        "outputId": "7f5175d8-3867-4d05-be02-5ee1587dd76f"
      },
      "source": [
        "plt.scatter(df['Peso'], df['Altura'])\n",
        "plt.show()"
      ],
      "execution_count": 39,
      "outputs": [
        {
          "output_type": "display_data",
          "data": {
            "image/png": "[encoded data removed]",
            "text/plain": [
              "<Figure size 432x288 with 1 Axes>"
            ]
          },
          "metadata": {
            "tags": [],
            "needs_background": "light"
          }
        }
      ]
    },
    {
      "cell_type": "code",
      "metadata": {
        "id": "zuc1L3nLV9sy",
        "colab_type": "code",
        "colab": {
          "base_uri": "https://localhost:8080/",
          "height": 153
        },
        "outputId": "f1537480-4ac8-43ec-cae6-ce25a8fd11fa"
      },
      "source": [
        "df.Peso.values"
      ],
      "execution_count": 40,
      "outputs": [
        {
          "output_type": "execute_result",
          "data": {
            "text/plain": [
              "array([  6.546,  46.83 , 119.66 ,  83.54 , 121.39 ,  48.21 ,  78.76 ,\n",
              "       104.46 , 110.97 ,  76.57 , 119.19 ,  62.49 ,  62.72 , 100.01 ,\n",
              "        96.16 ,  88.14 ,  56.83 , 163.91 ,  44.49 ,  80.39 , 100.29 ,\n",
              "        75.24 ,  81.33 , 143.59 ,  85.84 ,  60.49 ,  26.81 ,  82.25 ,\n",
              "        72.92 , 103.92 ,  74.72 , 116.55 ,  81.16 , 103.92 ,  92.49 ,\n",
              "        50.04 ,  64.89 , 114.36 , 129.08 , 142.97 ,  97.32 , 102.51 ,\n",
              "        80.96 ,  58.75 ,  78.45 ,  28.92 ,  99.33 ,  40.17 ,  85.01 ,\n",
              "        41.29 ])"
            ]
          },
          "metadata": {
            "tags": []
          },
          "execution_count": 40
        }
      ]
    }
  ]
}