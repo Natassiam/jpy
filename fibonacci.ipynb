{
  "nbformat": 4,
  "nbformat_minor": 0,
  "metadata": {
    "colab": {
      "name": "fibonacci.ipynb",
      "provenance": [],
      "authorship_tag": "ABX9TyPfCt/XF1QDJXeRWEpzL5lT",
      "include_colab_link": true
    },
    "kernelspec": {
      "name": "python3",
      "display_name": "Python 3"
    }
  },
  "cells": [
    {
      "cell_type": "markdown",
      "metadata": {
        "id": "view-in-github",
        "colab_type": "text"
      },
      "source": [
        "<a href=\"https://colab.research.google.com/github/Natassiam/jpy/blob/master/fibonacci.ipynb\" target=\"_parent\"><img src=\"https://colab.research.google.com/assets/colab-badge.svg\" alt=\"Open In Colab\"/></a>"
      ]
    },
    {
      "cell_type": "code",
      "metadata": {
        "id": "OUBrCmiKXGvM"
      },
      "source": [
        "n= 10\n"
      ],
      "execution_count": 8,
      "outputs": []
    },
    {
      "cell_type": "code",
      "metadata": {
        "id": "VBq1EzkCanfn"
      },
      "source": [
        "def ffib(n, memo={0: 0, 1: 1}):\n",
        "  \n",
        "    try:  # tente retornar um valor no 'memorizador'\n",
        "        return memo[n]\n",
        "\n",
        "    except:  # se não conseguir, calcule o numero\n",
        "        fib = ffib(n - 1) + ffib(n - 2)\n",
        "        memo[n] = fib  # guarde-o\n",
        "        return memo[n]\n",
        "\n"
      ],
      "execution_count": 16,
      "outputs": []
    },
    {
      "cell_type": "code",
      "metadata": {
        "id": "ZvtxjLIhcsuO",
        "outputId": "b6c5ae82-9dea-4f92-dc4d-e0cda779bea1",
        "colab": {
          "base_uri": "https://localhost:8080/",
          "height": 1000
        }
      },
      "source": [
        "[ffib(i) for i in range(0,75)]\n"
      ],
      "execution_count": 30,
      "outputs": [
        {
          "output_type": "execute_result",
          "data": {
            "text/plain": [
              "[0,\n",
              " 1,\n",
              " 1,\n",
              " 2,\n",
              " 3,\n",
              " 5,\n",
              " 8,\n",
              " 13,\n",
              " 21,\n",
              " 34,\n",
              " 55,\n",
              " 89,\n",
              " 144,\n",
              " 233,\n",
              " 377,\n",
              " 610,\n",
              " 987,\n",
              " 1597,\n",
              " 2584,\n",
              " 4181,\n",
              " 6765,\n",
              " 10946,\n",
              " 17711,\n",
              " 28657,\n",
              " 46368,\n",
              " 75025,\n",
              " 121393,\n",
              " 196418,\n",
              " 317811,\n",
              " 514229,\n",
              " 832040,\n",
              " 1346269,\n",
              " 2178309,\n",
              " 3524578,\n",
              " 5702887,\n",
              " 9227465,\n",
              " 14930352,\n",
              " 24157817,\n",
              " 39088169,\n",
              " 63245986,\n",
              " 102334155,\n",
              " 165580141,\n",
              " 267914296,\n",
              " 433494437,\n",
              " 701408733,\n",
              " 1134903170,\n",
              " 1836311903,\n",
              " 2971215073,\n",
              " 4807526976,\n",
              " 7778742049,\n",
              " 12586269025,\n",
              " 20365011074,\n",
              " 32951280099,\n",
              " 53316291173,\n",
              " 86267571272,\n",
              " 139583862445,\n",
              " 225851433717,\n",
              " 365435296162,\n",
              " 591286729879,\n",
              " 956722026041,\n",
              " 1548008755920,\n",
              " 2504730781961,\n",
              " 4052739537881,\n",
              " 6557470319842,\n",
              " 10610209857723,\n",
              " 17167680177565,\n",
              " 27777890035288,\n",
              " 44945570212853,\n",
              " 72723460248141,\n",
              " 117669030460994,\n",
              " 190392490709135,\n",
              " 308061521170129,\n",
              " 498454011879264,\n",
              " 806515533049393,\n",
              " 1304969544928657]"
            ]
          },
          "metadata": {
            "tags": []
          },
          "execution_count": 30
        }
      ]
    },
    {
      "cell_type": "code",
      "metadata": {
        "id": "1WonMgeoe6_C",
        "outputId": "1f6a7525-c330-4a9f-afdc-53386175e82f",
        "colab": {
          "base_uri": "https://localhost:8080/",
          "height": 68
        }
      },
      "source": [
        "time(ffib)"
      ],
      "execution_count": 33,
      "outputs": [
        {
          "output_type": "stream",
          "text": [
            "CPU times: user 3 µs, sys: 0 ns, total: 3 µs\n",
            "Wall time: 6.2 µs\n"
          ],
          "name": "stdout"
        },
        {
          "output_type": "execute_result",
          "data": {
            "text/plain": [
              "<function __main__.ffib>"
            ]
          },
          "metadata": {
            "tags": []
          },
          "execution_count": 33
        }
      ]
    }
  ]
}