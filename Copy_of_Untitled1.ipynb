{
  "nbformat": 4,
  "nbformat_minor": 0,
  "metadata": {
    "colab": {
      "name": "Copy of Untitled1.ipynb",
      "provenance": [],
      "authorship_tag": "ABX9TyNBewSJb+IhwwF4ruj+dZh6",
      "include_colab_link": true
    },
    "kernelspec": {
      "name": "python3",
      "display_name": "Python 3"
    }
  },
  "cells": [
    {
      "cell_type": "markdown",
      "metadata": {
        "id": "view-in-github",
        "colab_type": "text"
      },
      "source": [
        "<a href=\"https://colab.research.google.com/github/Natassiam/jpy/blob/master/Copy_of_Untitled1.ipynb\" target=\"_parent\"><img src=\"https://colab.research.google.com/assets/colab-badge.svg\" alt=\"Open In Colab\"/></a>"
      ]
    },
    {
      "cell_type": "code",
      "metadata": {
        "id": "DdhlZp3AsU6j",
        "colab_type": "code",
        "colab": {}
      },
      "source": [
        "import random\n",
        "import numpy as np\n",
        "\n",
        "grupo2 = [42,66,33,44,55]\n",
        "\n"
      ],
      "execution_count": 0,
      "outputs": []
    },
    {
      "cell_type": "code",
      "metadata": {
        "id": "FqGmJqfv-HUp",
        "colab_type": "code",
        "colab": {}
      },
      "source": [
        "macro_list = []\n",
        "macro_list.append(grupo2)\n",
        "\n"
      ],
      "execution_count": 0,
      "outputs": []
    },
    {
      "cell_type": "code",
      "metadata": {
        "id": "DLYHRc2b-n6V",
        "colab_type": "code",
        "outputId": "9f7dfda0-3760-4c14-bc93-121848bcf234",
        "colab": {
          "base_uri": "https://localhost:8080/",
          "height": 34
        }
      },
      "source": [
        "print(macro_list)"
      ],
      "execution_count": 41,
      "outputs": [
        {
          "output_type": "stream",
          "text": [
            "[[42, 66, 33, 44, 55]]\n"
          ],
          "name": "stdout"
        }
      ]
    },
    {
      "cell_type": "code",
      "metadata": {
        "id": "x3OOPhTm-uhO",
        "colab_type": "code",
        "outputId": "d64d6028-d004-4ee0-a5c1-5adff3cebdf3",
        "colab": {
          "base_uri": "https://localhost:8080/",
          "height": 34
        }
      },
      "source": [
        "random.shuffle(grupo2)\n",
        "print(grupo2)"
      ],
      "execution_count": 42,
      "outputs": [
        {
          "output_type": "stream",
          "text": [
            "[55, 66, 33, 44, 42]\n"
          ],
          "name": "stdout"
        }
      ]
    },
    {
      "cell_type": "code",
      "metadata": {
        "id": "MmOispzXuydS",
        "colab_type": "code",
        "colab": {}
      },
      "source": [
        "def embaralhar():\n",
        " for sorteio in grupo2(1,10):\n",
        "  random.shuffle(grupo2)\n"
      ],
      "execution_count": 0,
      "outputs": []
    },
    {
      "cell_type": "code",
      "metadata": {
        "id": "TRTZFyQivRnh",
        "colab_type": "code",
        "outputId": "3a680c3c-c0a3-4a62-d7ad-2b0cc231bd12",
        "colab": {
          "base_uri": "https://localhost:8080/",
          "height": 51
        }
      },
      "source": [
        "grupo = np.arange(0,30)\n",
        "print(grupo)"
      ],
      "execution_count": 95,
      "outputs": [
        {
          "output_type": "stream",
          "text": [
            "[ 0  1  2  3  4  5  6  7  8  9 10 11 12 13 14 15 16 17 18 19 20 21 22 23\n",
            " 24 25 26 27 28 29]\n"
          ],
          "name": "stdout"
        }
      ]
    },
    {
      "cell_type": "code",
      "metadata": {
        "id": "bcGFXVD2qjUN",
        "colab_type": "code",
        "colab": {}
      },
      "source": [
        ""
      ],
      "execution_count": 0,
      "outputs": []
    },
    {
      "cell_type": "code",
      "metadata": {
        "id": "_ujA6sNEg9y_",
        "colab_type": "code",
        "colab": {
          "base_uri": "https://localhost:8080/",
          "height": 102
        },
        "outputId": "cffc92b6-21e5-4984-897e-77a6eed254c8"
      },
      "source": [
        "\n",
        "grupo = grupo.reshape(5,6)[::-1]\n",
        "print(grupo)\n",
        "\n"
      ],
      "execution_count": 96,
      "outputs": [
        {
          "output_type": "stream",
          "text": [
            "[[24 25 26 27 28 29]\n",
            " [18 19 20 21 22 23]\n",
            " [12 13 14 15 16 17]\n",
            " [ 6  7  8  9 10 11]\n",
            " [ 0  1  2  3  4  5]]\n"
          ],
          "name": "stdout"
        }
      ]
    },
    {
      "cell_type": "code",
      "metadata": {
        "id": "A8-_HTFQpUs9",
        "colab_type": "code",
        "colab": {}
      },
      "source": [
        "random.shuffle(grupo)"
      ],
      "execution_count": 0,
      "outputs": []
    },
    {
      "cell_type": "code",
      "metadata": {
        "id": "PRtZ5GP2pZ2X",
        "colab_type": "code",
        "colab": {
          "base_uri": "https://localhost:8080/",
          "height": 102
        },
        "outputId": "6507fff0-e4b1-4fae-d56d-d73dd8be214d"
      },
      "source": [
        "print(grupo)"
      ],
      "execution_count": 98,
      "outputs": [
        {
          "output_type": "stream",
          "text": [
            "[[24 25 26 27 28 29]\n",
            " [18 19 20 21 22 23]\n",
            " [12 13 14 15 16 17]\n",
            " [18 19 20 21 22 23]\n",
            " [ 6  7  8  9 10 11]]\n"
          ],
          "name": "stdout"
        }
      ]
    },
    {
      "cell_type": "code",
      "metadata": {
        "id": "IGy1GsQLqknx",
        "colab_type": "code",
        "colab": {
          "base_uri": "https://localhost:8080/",
          "height": 34
        },
        "outputId": "c1ddd118-eaed-48d0-cedf-cf53c3ae4b2a"
      },
      "source": [
        "nomesHerois = [\"Stark\",\"Batman\", \"Captan\", \"Aranha\", \"Venom\",\"Ciclope\"]\n",
        "random.shuffle(nomesHerois)\n",
        "print(nomesHerois)"
      ],
      "execution_count": 110,
      "outputs": [
        {
          "output_type": "stream",
          "text": [
            "['Captan', 'Venom', 'Aranha', 'Ciclope', 'Stark', 'Batman']\n"
          ],
          "name": "stdout"
        }
      ]
    }
  ]
}