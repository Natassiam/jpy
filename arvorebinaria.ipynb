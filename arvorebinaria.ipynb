{
  "nbformat": 4,
  "nbformat_minor": 0,
  "metadata": {
    "colab": {
      "name": "arvorebinaria.ipynb",
      "provenance": [],
      "authorship_tag": "ABX9TyM2ClySWnUSu6zoLR5NzQqE",
      "include_colab_link": true
    },
    "kernelspec": {
      "name": "python3",
      "display_name": "Python 3"
    }
  },
  "cells": [
    {
      "cell_type": "markdown",
      "metadata": {
        "id": "view-in-github",
        "colab_type": "text"
      },
      "source": [
        "<a href=\"https://colab.research.google.com/github/Natassiam/jpy/blob/data_structure/arvorebinaria.ipynb\" target=\"_parent\"><img src=\"https://colab.research.google.com/assets/colab-badge.svg\" alt=\"Open In Colab\"/></a>"
      ]
    },
    {
      "cell_type": "code",
      "metadata": {
        "id": "YF0OTN1lfmWo"
      },
      "source": [
        "  \n",
        "  class Arvore:\n",
        "    def __init__(self, cargo, left=None, right=None) :\n",
        "     self.cargo = cargo\n",
        "     self.left  = left\n",
        "     self.right = right\n",
        "\n",
        "  def __str__(self) :\n",
        "    return str(self.cargo)\n"
      ],
      "execution_count": null,
      "outputs": []
    },
    {
      "cell_type": "code",
      "metadata": {
        "id": "QYyA2iVufwtL"
      },
      "source": [
        "left = Arvore(2)\n",
        "right = Arvore(3)"
      ],
      "execution_count": null,
      "outputs": []
    },
    {
      "cell_type": "code",
      "metadata": {
        "id": "GNZ6DbARgbh-"
      },
      "source": [
        "arvore = Arvore(15, Arvore(2), Arvore(3))"
      ],
      "execution_count": null,
      "outputs": []
    },
    {
      "cell_type": "code",
      "metadata": {
        "id": "jzcklIcUgNba"
      },
      "source": [
        "def total(arvore) :\n",
        "  if arvore == None : return 0\n",
        "  return total(arvore.left) + total(arvore.right) + arvore.cargo"
      ],
      "execution_count": null,
      "outputs": []
    },
    {
      "cell_type": "code",
      "metadata": {
        "id": "VYTDFgR5grrU"
      },
      "source": [
        "def printTree(arvore) :\n",
        "  if arvore == None : return\n",
        "  print (arvore.cargo, end=\"\")\n",
        "  printTree(arvore.left)\n",
        "  printTree(arvore.right)"
      ],
      "execution_count": null,
      "outputs": []
    },
    {
      "cell_type": "code",
      "metadata": {
        "id": "32BviETcg3q_",
        "outputId": "492bac04-f181-4fdd-eafd-9d03bccb90ad",
        "colab": {
          "base_uri": "https://localhost:8080/",
          "height": 34
        }
      },
      "source": [
        "arvore = Arvore('+', Arvore(15), Arvore('*', Arvore(2), Arvore(3)))\n",
        ">>> printTree(arvore)"
      ],
      "execution_count": null,
      "outputs": [
        {
          "output_type": "stream",
          "text": [
            "+15*23"
          ],
          "name": "stdout"
        }
      ]
    },
    {
      "cell_type": "code",
      "metadata": {
        "id": "lPcjwbunhjUT",
        "outputId": "face44bb-93df-4e77-a318-4b607aa510ad",
        "colab": {
          "base_uri": "https://localhost:8080/",
          "height": 68
        }
      },
      "source": [
        "time(arvore)"
      ],
      "execution_count": null,
      "outputs": [
        {
          "output_type": "stream",
          "text": [
            "CPU times: user 3 µs, sys: 0 ns, total: 3 µs\n",
            "Wall time: 7.15 µs\n"
          ],
          "name": "stdout"
        },
        {
          "output_type": "execute_result",
          "data": {
            "text/plain": [
              "<__main__.Arvore at 0x7f20ba4e7518>"
            ]
          },
          "metadata": {
            "tags": []
          },
          "execution_count": 24
        }
      ]
    },
    {
      "cell_type": "code",
      "metadata": {
        "id": "_xaI25Nrh2pi"
      },
      "source": [
        "left.add(2)"
      ],
      "execution_count": null,
      "outputs": []
    }
  ]
}