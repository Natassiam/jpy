{
 "cells": [
  {
   "cell_type": "code",
   "execution_count": 1,
   "metadata": {},
   "outputs": [],
   "source": [
    "import pandas as pd\n",
    "import matplotlib.pyplot as plt\n",
    "import seaborn as sb\n",
    "import numpy as np"
   ]
  },
  {
   "cell_type": "code",
   "execution_count": 8,
   "metadata": {},
   "outputs": [
    {
     "name": "stderr",
     "output_type": "stream",
     "text": [
      "b'Skipping line 3993: expected 1 fields, saw 3\\nSkipping line 5163: expected 1 fields, saw 3\\n'\n"
     ]
    }
   ],
   "source": [
    "planilha = pd.read_csv('oco.csv', error_bad_lines=False)"
   ]
  },
  {
   "cell_type": "code",
   "execution_count": 9,
   "metadata": {},
   "outputs": [
    {
     "name": "stdout",
     "output_type": "stream",
     "text": [
      "\n",
      "INSTALLED VERSIONS\n",
      "------------------\n",
      "commit           : None\n",
      "python           : 3.7.4.final.0\n",
      "python-bits      : 64\n",
      "OS               : Windows\n",
      "OS-release       : 10\n",
      "machine          : AMD64\n",
      "processor        : Intel64 Family 6 Model 142 Stepping 9, GenuineIntel\n",
      "byteorder        : little\n",
      "LC_ALL           : None\n",
      "LANG             : None\n",
      "LOCALE           : None.None\n",
      "\n",
      "pandas           : 0.25.1\n",
      "numpy            : 1.16.5\n",
      "pytz             : 2019.3\n",
      "dateutil         : 2.8.0\n",
      "pip              : 19.2.3\n",
      "setuptools       : 41.4.0\n",
      "Cython           : 0.29.13\n",
      "pytest           : 5.2.1\n",
      "hypothesis       : None\n",
      "sphinx           : 2.2.0\n",
      "blosc            : None\n",
      "feather          : None\n",
      "xlsxwriter       : 1.2.1\n",
      "lxml.etree       : 4.4.1\n",
      "html5lib         : 1.0.1\n",
      "pymysql          : None\n",
      "psycopg2         : None\n",
      "jinja2           : 2.10.3\n",
      "IPython          : 7.8.0\n",
      "pandas_datareader: None\n",
      "bs4              : 4.8.0\n",
      "bottleneck       : 1.2.1\n",
      "fastparquet      : None\n",
      "gcsfs            : None\n",
      "lxml.etree       : 4.4.1\n",
      "matplotlib       : 3.1.1\n",
      "numexpr          : 2.7.0\n",
      "odfpy            : None\n",
      "openpyxl         : 3.0.0\n",
      "pandas_gbq       : None\n",
      "pyarrow          : None\n",
      "pytables         : None\n",
      "s3fs             : None\n",
      "scipy            : 1.3.1\n",
      "sqlalchemy       : 1.3.9\n",
      "tables           : 3.5.2\n",
      "xarray           : None\n",
      "xlrd             : 1.2.0\n",
      "xlwt             : 1.3.0\n",
      "xlsxwriter       : 1.2.1\n"
     ]
    }
   ],
   "source": [
    "pd.show_versions()"
   ]
  },
  {
   "cell_type": "code",
   "execution_count": 10,
   "metadata": {},
   "outputs": [
    {
     "name": "stderr",
     "output_type": "stream",
     "text": [
      "b'Skipping line 3993: expected 1 fields, saw 3\\nSkipping line 5163: expected 1 fields, saw 3\\n'\n"
     ]
    }
   ],
   "source": [
    "planilha = pd.read_csv('oco.csv', error_bad_lines=False)"
   ]
  },
  {
   "cell_type": "code",
   "execution_count": 11,
   "metadata": {},
   "outputs": [],
   "source": [
    "planilha = pd.read_csv('oco2.csv', error_bad_lines=False)"
   ]
  },
  {
   "cell_type": "code",
   "execution_count": 12,
   "metadata": {},
   "outputs": [
    {
     "ename": "NameError",
     "evalue": "name 'oco2' is not defined",
     "output_type": "error",
     "traceback": [
      "\u001b[1;31m---------------------------------------------------------------------------\u001b[0m",
      "\u001b[1;31mNameError\u001b[0m                                 Traceback (most recent call last)",
      "\u001b[1;32m<ipython-input-12-d8510673ed44>\u001b[0m in \u001b[0;36m<module>\u001b[1;34m\u001b[0m\n\u001b[1;32m----> 1\u001b[1;33m \u001b[0moco2\u001b[0m\u001b[1;33m.\u001b[0m\u001b[0mcolumns\u001b[0m\u001b[1;33m(\u001b[0m\u001b[1;33m)\u001b[0m\u001b[1;33m\u001b[0m\u001b[1;33m\u001b[0m\u001b[0m\n\u001b[0m",
      "\u001b[1;31mNameError\u001b[0m: name 'oco2' is not defined"
     ]
    }
   ],
   "source": [
    "oco2.columns()"
   ]
  },
  {
   "cell_type": "code",
   "execution_count": 13,
   "metadata": {},
   "outputs": [
    {
     "ename": "TypeError",
     "evalue": "'Index' object is not callable",
     "output_type": "error",
     "traceback": [
      "\u001b[1;31m---------------------------------------------------------------------------\u001b[0m",
      "\u001b[1;31mTypeError\u001b[0m                                 Traceback (most recent call last)",
      "\u001b[1;32m<ipython-input-13-25e19cc05c0d>\u001b[0m in \u001b[0;36m<module>\u001b[1;34m\u001b[0m\n\u001b[1;32m----> 1\u001b[1;33m \u001b[0mplanilha\u001b[0m\u001b[1;33m.\u001b[0m\u001b[0mcolumns\u001b[0m\u001b[1;33m(\u001b[0m\u001b[1;33m)\u001b[0m\u001b[1;33m\u001b[0m\u001b[1;33m\u001b[0m\u001b[0m\n\u001b[0m",
      "\u001b[1;31mTypeError\u001b[0m: 'Index' object is not callable"
     ]
    }
   ],
   "source": [
    "planilha.columns()"
   ]
  },
  {
   "cell_type": "code",
   "execution_count": 14,
   "metadata": {},
   "outputs": [
    {
     "data": {
      "text/html": [
       "<div>\n",
       "<style scoped>\n",
       "    .dataframe tbody tr th:only-of-type {\n",
       "        vertical-align: middle;\n",
       "    }\n",
       "\n",
       "    .dataframe tbody tr th {\n",
       "        vertical-align: top;\n",
       "    }\n",
       "\n",
       "    .dataframe thead th {\n",
       "        text-align: right;\n",
       "    }\n",
       "</style>\n",
       "<table border=\"1\" class=\"dataframe\">\n",
       "  <thead>\n",
       "    <tr style=\"text-align: right;\">\n",
       "      <th></th>\n",
       "      <th>codigo_ocorrencia~\"ocorrencia_classificacao\"~\"ocorrencia_tipo\"~\"ocorrencia_tipo_categoria\"~\"ocorrencia_tipo_icao\"~\"ocorrencia_latitude\"~\"ocorrencia_longitude\"~\"ocorrencia_cidade\"~\"ocorrencia_uf\"~\"ocorrencia_pais\"~\"ocorrencia_aerodromo\"~\"ocorrencia_dia\"~\"ocorrencia_horario\"~\"investigacao_aeronave_liberada\"~\"investigacao_status\"~\"divulgacao_relatorio_numero\"~\"divulgacao_relatorio_publicado\"~\"divulgacao_dia_publicacao\"~\"total_recomendacoes\"~\"total_aeronaves_envolvidas\"~\"ocorrencia_saida_pista\"~\"ocorrencia_dia_extracao\"</th>\n",
       "    </tr>\n",
       "  </thead>\n",
       "  <tbody>\n",
       "    <tr>\n",
       "      <td>0</td>\n",
       "      <td>201305055424986~\"ACIDENTE\"~\"FALHA DO MOTOR EM ...</td>\n",
       "    </tr>\n",
       "    <tr>\n",
       "      <td>1</td>\n",
       "      <td>201311259977425~\"INCIDENTE GRAVE\"~\"POUSO SEM T...</td>\n",
       "    </tr>\n",
       "    <tr>\n",
       "      <td>2</td>\n",
       "      <td>201605160250139~\"INCIDENTE GRAVE\"~\"COLISÃO COM...</td>\n",
       "    </tr>\n",
       "    <tr>\n",
       "      <td>3</td>\n",
       "      <td>201805021421302~\"INCIDENTE\"~\"AERÓDROMO\"~\"AERÓD...</td>\n",
       "    </tr>\n",
       "    <tr>\n",
       "      <td>4</td>\n",
       "      <td>201103187273112~\"INCIDENTE\"~\"OUTROS\"~\"OUTROS\"~...</td>\n",
       "    </tr>\n",
       "  </tbody>\n",
       "</table>\n",
       "</div>"
      ],
      "text/plain": [
       "  codigo_ocorrencia~\"ocorrencia_classificacao\"~\"ocorrencia_tipo\"~\"ocorrencia_tipo_categoria\"~\"ocorrencia_tipo_icao\"~\"ocorrencia_latitude\"~\"ocorrencia_longitude\"~\"ocorrencia_cidade\"~\"ocorrencia_uf\"~\"ocorrencia_pais\"~\"ocorrencia_aerodromo\"~\"ocorrencia_dia\"~\"ocorrencia_horario\"~\"investigacao_aeronave_liberada\"~\"investigacao_status\"~\"divulgacao_relatorio_numero\"~\"divulgacao_relatorio_publicado\"~\"divulgacao_dia_publicacao\"~\"total_recomendacoes\"~\"total_aeronaves_envolvidas\"~\"ocorrencia_saida_pista\"~\"ocorrencia_dia_extracao\"\n",
       "0  201305055424986~\"ACIDENTE\"~\"FALHA DO MOTOR EM ...                                                                                                                                                                                                                                                                                                                                                                                                                                                                                       \n",
       "1  201311259977425~\"INCIDENTE GRAVE\"~\"POUSO SEM T...                                                                                                                                                                                                                                                                                                                                                                                                                                                                                       \n",
       "2  201605160250139~\"INCIDENTE GRAVE\"~\"COLISÃO COM...                                                                                                                                                                                                                                                                                                                                                                                                                                                                                       \n",
       "3  201805021421302~\"INCIDENTE\"~\"AERÓDROMO\"~\"AERÓD...                                                                                                                                                                                                                                                                                                                                                                                                                                                                                       \n",
       "4  201103187273112~\"INCIDENTE\"~\"OUTROS\"~\"OUTROS\"~...                                                                                                                                                                                                                                                                                                                                                                                                                                                                                       "
      ]
     },
     "execution_count": 14,
     "metadata": {},
     "output_type": "execute_result"
    }
   ],
   "source": [
    "planilha.head()"
   ]
  },
  {
   "cell_type": "code",
   "execution_count": 15,
   "metadata": {},
   "outputs": [
    {
     "data": {
      "text/html": [
       "<div>\n",
       "<style scoped>\n",
       "    .dataframe tbody tr th:only-of-type {\n",
       "        vertical-align: middle;\n",
       "    }\n",
       "\n",
       "    .dataframe tbody tr th {\n",
       "        vertical-align: top;\n",
       "    }\n",
       "\n",
       "    .dataframe thead th {\n",
       "        text-align: right;\n",
       "    }\n",
       "</style>\n",
       "<table border=\"1\" class=\"dataframe\">\n",
       "  <thead>\n",
       "    <tr style=\"text-align: right;\">\n",
       "      <th></th>\n",
       "      <th>codigo_ocorrencia~\"ocorrencia_classificacao\"~\"ocorrencia_tipo\"~\"ocorrencia_tipo_categoria\"~\"ocorrencia_tipo_icao\"~\"ocorrencia_latitude\"~\"ocorrencia_longitude\"~\"ocorrencia_cidade\"~\"ocorrencia_uf\"~\"ocorrencia_pais\"~\"ocorrencia_aerodromo\"~\"ocorrencia_dia\"~\"ocorrencia_horario\"~\"investigacao_aeronave_liberada\"~\"investigacao_status\"~\"divulgacao_relatorio_numero\"~\"divulgacao_relatorio_publicado\"~\"divulgacao_dia_publicacao\"~\"total_recomendacoes\"~\"total_aeronaves_envolvidas\"~\"ocorrencia_saida_pista\"~\"ocorrencia_dia_extracao\"</th>\n",
       "    </tr>\n",
       "  </thead>\n",
       "  <tbody>\n",
       "    <tr>\n",
       "      <td>count</td>\n",
       "      <td>4628</td>\n",
       "    </tr>\n",
       "    <tr>\n",
       "      <td>unique</td>\n",
       "      <td>4628</td>\n",
       "    </tr>\n",
       "    <tr>\n",
       "      <td>top</td>\n",
       "      <td>201703241311527~\"INCIDENTE\"~\"COM PARA-BRISAS /...</td>\n",
       "    </tr>\n",
       "    <tr>\n",
       "      <td>freq</td>\n",
       "      <td>1</td>\n",
       "    </tr>\n",
       "  </tbody>\n",
       "</table>\n",
       "</div>"
      ],
      "text/plain": [
       "       codigo_ocorrencia~\"ocorrencia_classificacao\"~\"ocorrencia_tipo\"~\"ocorrencia_tipo_categoria\"~\"ocorrencia_tipo_icao\"~\"ocorrencia_latitude\"~\"ocorrencia_longitude\"~\"ocorrencia_cidade\"~\"ocorrencia_uf\"~\"ocorrencia_pais\"~\"ocorrencia_aerodromo\"~\"ocorrencia_dia\"~\"ocorrencia_horario\"~\"investigacao_aeronave_liberada\"~\"investigacao_status\"~\"divulgacao_relatorio_numero\"~\"divulgacao_relatorio_publicado\"~\"divulgacao_dia_publicacao\"~\"total_recomendacoes\"~\"total_aeronaves_envolvidas\"~\"ocorrencia_saida_pista\"~\"ocorrencia_dia_extracao\"\n",
       "count                                                4628                                                                                                                                                                                                                                                                                                                                                                                                                                                                                       \n",
       "unique                                               4628                                                                                                                                                                                                                                                                                                                                                                                                                                                                                       \n",
       "top     201703241311527~\"INCIDENTE\"~\"COM PARA-BRISAS /...                                                                                                                                                                                                                                                                                                                                                                                                                                                                                       \n",
       "freq                                                    1                                                                                                                                                                                                                                                                                                                                                                                                                                                                                       "
      ]
     },
     "execution_count": 15,
     "metadata": {},
     "output_type": "execute_result"
    }
   ],
   "source": [
    "planilha.describe()"
   ]
  },
  {
   "cell_type": "code",
   "execution_count": 16,
   "metadata": {},
   "outputs": [
    {
     "ename": "SyntaxError",
     "evalue": "unexpected EOF while parsing (<ipython-input-16-ef834005bfd6>, line 1)",
     "output_type": "error",
     "traceback": [
      "\u001b[1;36m  File \u001b[1;32m\"<ipython-input-16-ef834005bfd6>\"\u001b[1;36m, line \u001b[1;32m1\u001b[0m\n\u001b[1;33m    s = pd.Series([3, -5, 7, 4], index=['a', 'b', 'c', 'd']\u001b[0m\n\u001b[1;37m                                                           ^\u001b[0m\n\u001b[1;31mSyntaxError\u001b[0m\u001b[1;31m:\u001b[0m unexpected EOF while parsing\n"
     ]
    }
   ],
   "source": [
    "s = pd.Series([3, -5, 7, 4], index=['a', 'b', 'c', 'd']"
   ]
  },
  {
   "cell_type": "code",
   "execution_count": 19,
   "metadata": {},
   "outputs": [],
   "source": [
    "df = pd.read_excel('Exame FInal.xlsx')"
   ]
  },
  {
   "cell_type": "code",
   "execution_count": 20,
   "metadata": {},
   "outputs": [
    {
     "data": {
      "text/plain": [
       "(12, 4)"
      ]
     },
     "execution_count": 20,
     "metadata": {},
     "output_type": "execute_result"
    }
   ],
   "source": [
    "df.shape"
   ]
  },
  {
   "cell_type": "code",
   "execution_count": 21,
   "metadata": {},
   "outputs": [
    {
     "data": {
      "text/plain": [
       "RangeIndex(start=0, stop=12, step=1)"
      ]
     },
     "execution_count": 21,
     "metadata": {},
     "output_type": "execute_result"
    }
   ],
   "source": [
    "df.index"
   ]
  },
  {
   "cell_type": "code",
   "execution_count": 22,
   "metadata": {},
   "outputs": [
    {
     "data": {
      "text/plain": [
       "Serviço Social     4\n",
       "Direito           12\n",
       "Fundamentos        4\n",
       "Gerencia           2\n",
       "dtype: int64"
      ]
     },
     "execution_count": 22,
     "metadata": {},
     "output_type": "execute_result"
    }
   ],
   "source": [
    "df.count()"
   ]
  },
  {
   "cell_type": "code",
   "execution_count": 23,
   "metadata": {},
   "outputs": [
    {
     "data": {
      "text/plain": [
       "Series([], dtype: float64)"
      ]
     },
     "execution_count": 23,
     "metadata": {},
     "output_type": "execute_result"
    }
   ],
   "source": [
    "df.median()"
   ]
  },
  {
   "cell_type": "code",
   "execution_count": 24,
   "metadata": {},
   "outputs": [
    {
     "ename": "TypeError",
     "evalue": "sort_values() missing 1 required positional argument: 'by'",
     "output_type": "error",
     "traceback": [
      "\u001b[1;31m---------------------------------------------------------------------------\u001b[0m",
      "\u001b[1;31mTypeError\u001b[0m                                 Traceback (most recent call last)",
      "\u001b[1;32m<ipython-input-24-9baf0daa5fc6>\u001b[0m in \u001b[0;36m<module>\u001b[1;34m\u001b[0m\n\u001b[1;32m----> 1\u001b[1;33m \u001b[0mdf\u001b[0m\u001b[1;33m.\u001b[0m\u001b[0msort_values\u001b[0m\u001b[1;33m(\u001b[0m\u001b[1;33m)\u001b[0m\u001b[1;33m\u001b[0m\u001b[1;33m\u001b[0m\u001b[0m\n\u001b[0m",
      "\u001b[1;31mTypeError\u001b[0m: sort_values() missing 1 required positional argument: 'by'"
     ]
    }
   ],
   "source": [
    "df.sort_values()"
   ]
  },
  {
   "cell_type": "code",
   "execution_count": 25,
   "metadata": {},
   "outputs": [
    {
     "ename": "SyntaxError",
     "evalue": "unexpected EOF while parsing (<ipython-input-25-6168fb6a11e5>, line 1)",
     "output_type": "error",
     "traceback": [
      "\u001b[1;36m  File \u001b[1;32m\"<ipython-input-25-6168fb6a11e5>\"\u001b[1;36m, line \u001b[1;32m1\u001b[0m\n\u001b[1;33m    df[df['Fundamentos'%2 ==0]\u001b[0m\n\u001b[1;37m                              ^\u001b[0m\n\u001b[1;31mSyntaxError\u001b[0m\u001b[1;31m:\u001b[0m unexpected EOF while parsing\n"
     ]
    }
   ],
   "source": [
    "df[df['Fundamentos'%2 ==0]"
   ]
  },
  {
   "cell_type": "code",
   "execution_count": 26,
   "metadata": {},
   "outputs": [
    {
     "name": "stdout",
     "output_type": "stream",
     "text": [
      "0, 1, 2, 3, 4, "
     ]
    }
   ],
   "source": [
    "for i in range(5):\n",
    "   ...:     print(i, end=', ')"
   ]
  },
  {
   "cell_type": "code",
   "execution_count": 27,
   "metadata": {},
   "outputs": [
    {
     "ename": "NameError",
     "evalue": "name 'create' is not defined",
     "output_type": "error",
     "traceback": [
      "\u001b[1;31m---------------------------------------------------------------------------\u001b[0m",
      "\u001b[1;31mNameError\u001b[0m                                 Traceback (most recent call last)",
      "\u001b[1;32m<ipython-input-27-e1e25fca6147>\u001b[0m in \u001b[0;36m<module>\u001b[1;34m\u001b[0m\n\u001b[1;32m----> 1\u001b[1;33m \u001b[0mcreate\u001b[0m\u001b[1;33m.\u001b[0m \u001b[0mplanilhas\u001b[0m\u001b[1;33m.\u001b[0m\u001b[0mcolumns\u001b[0m\u001b[1;33m(\u001b[0m\u001b[1;33m)\u001b[0m\u001b[1;33m\u001b[0m\u001b[1;33m\u001b[0m\u001b[0m\n\u001b[0m",
      "\u001b[1;31mNameError\u001b[0m: name 'create' is not defined"
     ]
    }
   ],
   "source": [
    "create. planilhas.columns()"
   ]
  },
  {
   "cell_type": "code",
   "execution_count": 28,
   "metadata": {},
   "outputs": [
    {
     "ename": "KeyError",
     "evalue": "\"['Name'] not found in axis\"",
     "output_type": "error",
     "traceback": [
      "\u001b[1;31m---------------------------------------------------------------------------\u001b[0m",
      "\u001b[1;31mKeyError\u001b[0m                                  Traceback (most recent call last)",
      "\u001b[1;32m<ipython-input-28-fe76b55f292d>\u001b[0m in \u001b[0;36m<module>\u001b[1;34m\u001b[0m\n\u001b[1;32m----> 1\u001b[1;33m \u001b[0mplanilha\u001b[0m \u001b[1;33m=\u001b[0m \u001b[0mplanilha\u001b[0m\u001b[1;33m.\u001b[0m\u001b[0mdrop\u001b[0m\u001b[1;33m(\u001b[0m\u001b[1;34m'Name'\u001b[0m\u001b[1;33m,\u001b[0m\u001b[0maxis\u001b[0m\u001b[1;33m=\u001b[0m\u001b[1;36m1\u001b[0m\u001b[1;33m)\u001b[0m\u001b[1;33m\u001b[0m\u001b[1;33m\u001b[0m\u001b[0m\n\u001b[0m\u001b[0;32m      2\u001b[0m \u001b[0mprint\u001b[0m\u001b[1;33m(\u001b[0m\u001b[0mplanilha\u001b[0m\u001b[1;33m.\u001b[0m\u001b[0mhead\u001b[0m\u001b[1;33m(\u001b[0m\u001b[1;33m)\u001b[0m\u001b[1;33m)\u001b[0m\u001b[1;33m\u001b[0m\u001b[1;33m\u001b[0m\u001b[0m\n",
      "\u001b[1;32m~\\Anaconda3\\lib\\site-packages\\pandas\\core\\frame.py\u001b[0m in \u001b[0;36mdrop\u001b[1;34m(self, labels, axis, index, columns, level, inplace, errors)\u001b[0m\n\u001b[0;32m   4100\u001b[0m             \u001b[0mlevel\u001b[0m\u001b[1;33m=\u001b[0m\u001b[0mlevel\u001b[0m\u001b[1;33m,\u001b[0m\u001b[1;33m\u001b[0m\u001b[1;33m\u001b[0m\u001b[0m\n\u001b[0;32m   4101\u001b[0m             \u001b[0minplace\u001b[0m\u001b[1;33m=\u001b[0m\u001b[0minplace\u001b[0m\u001b[1;33m,\u001b[0m\u001b[1;33m\u001b[0m\u001b[1;33m\u001b[0m\u001b[0m\n\u001b[1;32m-> 4102\u001b[1;33m             \u001b[0merrors\u001b[0m\u001b[1;33m=\u001b[0m\u001b[0merrors\u001b[0m\u001b[1;33m,\u001b[0m\u001b[1;33m\u001b[0m\u001b[1;33m\u001b[0m\u001b[0m\n\u001b[0m\u001b[0;32m   4103\u001b[0m         )\n\u001b[0;32m   4104\u001b[0m \u001b[1;33m\u001b[0m\u001b[0m\n",
      "\u001b[1;32m~\\Anaconda3\\lib\\site-packages\\pandas\\core\\generic.py\u001b[0m in \u001b[0;36mdrop\u001b[1;34m(self, labels, axis, index, columns, level, inplace, errors)\u001b[0m\n\u001b[0;32m   3912\u001b[0m         \u001b[1;32mfor\u001b[0m \u001b[0maxis\u001b[0m\u001b[1;33m,\u001b[0m \u001b[0mlabels\u001b[0m \u001b[1;32min\u001b[0m \u001b[0maxes\u001b[0m\u001b[1;33m.\u001b[0m\u001b[0mitems\u001b[0m\u001b[1;33m(\u001b[0m\u001b[1;33m)\u001b[0m\u001b[1;33m:\u001b[0m\u001b[1;33m\u001b[0m\u001b[1;33m\u001b[0m\u001b[0m\n\u001b[0;32m   3913\u001b[0m             \u001b[1;32mif\u001b[0m \u001b[0mlabels\u001b[0m \u001b[1;32mis\u001b[0m \u001b[1;32mnot\u001b[0m \u001b[1;32mNone\u001b[0m\u001b[1;33m:\u001b[0m\u001b[1;33m\u001b[0m\u001b[1;33m\u001b[0m\u001b[0m\n\u001b[1;32m-> 3914\u001b[1;33m                 \u001b[0mobj\u001b[0m \u001b[1;33m=\u001b[0m \u001b[0mobj\u001b[0m\u001b[1;33m.\u001b[0m\u001b[0m_drop_axis\u001b[0m\u001b[1;33m(\u001b[0m\u001b[0mlabels\u001b[0m\u001b[1;33m,\u001b[0m \u001b[0maxis\u001b[0m\u001b[1;33m,\u001b[0m \u001b[0mlevel\u001b[0m\u001b[1;33m=\u001b[0m\u001b[0mlevel\u001b[0m\u001b[1;33m,\u001b[0m \u001b[0merrors\u001b[0m\u001b[1;33m=\u001b[0m\u001b[0merrors\u001b[0m\u001b[1;33m)\u001b[0m\u001b[1;33m\u001b[0m\u001b[1;33m\u001b[0m\u001b[0m\n\u001b[0m\u001b[0;32m   3915\u001b[0m \u001b[1;33m\u001b[0m\u001b[0m\n\u001b[0;32m   3916\u001b[0m         \u001b[1;32mif\u001b[0m \u001b[0minplace\u001b[0m\u001b[1;33m:\u001b[0m\u001b[1;33m\u001b[0m\u001b[1;33m\u001b[0m\u001b[0m\n",
      "\u001b[1;32m~\\Anaconda3\\lib\\site-packages\\pandas\\core\\generic.py\u001b[0m in \u001b[0;36m_drop_axis\u001b[1;34m(self, labels, axis, level, errors)\u001b[0m\n\u001b[0;32m   3944\u001b[0m                 \u001b[0mnew_axis\u001b[0m \u001b[1;33m=\u001b[0m \u001b[0maxis\u001b[0m\u001b[1;33m.\u001b[0m\u001b[0mdrop\u001b[0m\u001b[1;33m(\u001b[0m\u001b[0mlabels\u001b[0m\u001b[1;33m,\u001b[0m \u001b[0mlevel\u001b[0m\u001b[1;33m=\u001b[0m\u001b[0mlevel\u001b[0m\u001b[1;33m,\u001b[0m \u001b[0merrors\u001b[0m\u001b[1;33m=\u001b[0m\u001b[0merrors\u001b[0m\u001b[1;33m)\u001b[0m\u001b[1;33m\u001b[0m\u001b[1;33m\u001b[0m\u001b[0m\n\u001b[0;32m   3945\u001b[0m             \u001b[1;32melse\u001b[0m\u001b[1;33m:\u001b[0m\u001b[1;33m\u001b[0m\u001b[1;33m\u001b[0m\u001b[0m\n\u001b[1;32m-> 3946\u001b[1;33m                 \u001b[0mnew_axis\u001b[0m \u001b[1;33m=\u001b[0m \u001b[0maxis\u001b[0m\u001b[1;33m.\u001b[0m\u001b[0mdrop\u001b[0m\u001b[1;33m(\u001b[0m\u001b[0mlabels\u001b[0m\u001b[1;33m,\u001b[0m \u001b[0merrors\u001b[0m\u001b[1;33m=\u001b[0m\u001b[0merrors\u001b[0m\u001b[1;33m)\u001b[0m\u001b[1;33m\u001b[0m\u001b[1;33m\u001b[0m\u001b[0m\n\u001b[0m\u001b[0;32m   3947\u001b[0m             \u001b[0mresult\u001b[0m \u001b[1;33m=\u001b[0m \u001b[0mself\u001b[0m\u001b[1;33m.\u001b[0m\u001b[0mreindex\u001b[0m\u001b[1;33m(\u001b[0m\u001b[1;33m**\u001b[0m\u001b[1;33m{\u001b[0m\u001b[0maxis_name\u001b[0m\u001b[1;33m:\u001b[0m \u001b[0mnew_axis\u001b[0m\u001b[1;33m}\u001b[0m\u001b[1;33m)\u001b[0m\u001b[1;33m\u001b[0m\u001b[1;33m\u001b[0m\u001b[0m\n\u001b[0;32m   3948\u001b[0m \u001b[1;33m\u001b[0m\u001b[0m\n",
      "\u001b[1;32m~\\Anaconda3\\lib\\site-packages\\pandas\\core\\indexes\\base.py\u001b[0m in \u001b[0;36mdrop\u001b[1;34m(self, labels, errors)\u001b[0m\n\u001b[0;32m   5338\u001b[0m         \u001b[1;32mif\u001b[0m \u001b[0mmask\u001b[0m\u001b[1;33m.\u001b[0m\u001b[0many\u001b[0m\u001b[1;33m(\u001b[0m\u001b[1;33m)\u001b[0m\u001b[1;33m:\u001b[0m\u001b[1;33m\u001b[0m\u001b[1;33m\u001b[0m\u001b[0m\n\u001b[0;32m   5339\u001b[0m             \u001b[1;32mif\u001b[0m \u001b[0merrors\u001b[0m \u001b[1;33m!=\u001b[0m \u001b[1;34m\"ignore\"\u001b[0m\u001b[1;33m:\u001b[0m\u001b[1;33m\u001b[0m\u001b[1;33m\u001b[0m\u001b[0m\n\u001b[1;32m-> 5340\u001b[1;33m                 \u001b[1;32mraise\u001b[0m \u001b[0mKeyError\u001b[0m\u001b[1;33m(\u001b[0m\u001b[1;34m\"{} not found in axis\"\u001b[0m\u001b[1;33m.\u001b[0m\u001b[0mformat\u001b[0m\u001b[1;33m(\u001b[0m\u001b[0mlabels\u001b[0m\u001b[1;33m[\u001b[0m\u001b[0mmask\u001b[0m\u001b[1;33m]\u001b[0m\u001b[1;33m)\u001b[0m\u001b[1;33m)\u001b[0m\u001b[1;33m\u001b[0m\u001b[1;33m\u001b[0m\u001b[0m\n\u001b[0m\u001b[0;32m   5341\u001b[0m             \u001b[0mindexer\u001b[0m \u001b[1;33m=\u001b[0m \u001b[0mindexer\u001b[0m\u001b[1;33m[\u001b[0m\u001b[1;33m~\u001b[0m\u001b[0mmask\u001b[0m\u001b[1;33m]\u001b[0m\u001b[1;33m\u001b[0m\u001b[1;33m\u001b[0m\u001b[0m\n\u001b[0;32m   5342\u001b[0m         \u001b[1;32mreturn\u001b[0m \u001b[0mself\u001b[0m\u001b[1;33m.\u001b[0m\u001b[0mdelete\u001b[0m\u001b[1;33m(\u001b[0m\u001b[0mindexer\u001b[0m\u001b[1;33m)\u001b[0m\u001b[1;33m\u001b[0m\u001b[1;33m\u001b[0m\u001b[0m\n",
      "\u001b[1;31mKeyError\u001b[0m: \"['Name'] not found in axis\""
     ]
    }
   ],
   "source": [
    "planilha = planilha.drop('Name',axis=1)\n",
    "print(planilha.head())"
   ]
  },
  {
   "cell_type": "code",
   "execution_count": 29,
   "metadata": {},
   "outputs": [
    {
     "ename": "NameError",
     "evalue": "name 'train_df' is not defined",
     "output_type": "error",
     "traceback": [
      "\u001b[1;31m---------------------------------------------------------------------------\u001b[0m",
      "\u001b[1;31mNameError\u001b[0m                                 Traceback (most recent call last)",
      "\u001b[1;32m<ipython-input-29-8c7b6919f785>\u001b[0m in \u001b[0;36m<module>\u001b[1;34m\u001b[0m\n\u001b[1;32m----> 1\u001b[1;33m \u001b[0mtrain_df\u001b[0m \u001b[1;33m=\u001b[0m \u001b[0mtrain_df\u001b[0m\u001b[1;33m.\u001b[0m\u001b[0mdrop\u001b[0m\u001b[1;33m(\u001b[0m\u001b[1;34m'codigo'\u001b[0m\u001b[1;33m,\u001b[0m\u001b[0maxis\u001b[0m\u001b[1;33m=\u001b[0m\u001b[1;36m1\u001b[0m\u001b[1;33m)\u001b[0m\u001b[1;33m\u001b[0m\u001b[1;33m\u001b[0m\u001b[0m\n\u001b[0m\u001b[0;32m      2\u001b[0m \u001b[0mprint\u001b[0m\u001b[1;33m(\u001b[0m\u001b[0mtrain_df\u001b[0m\u001b[1;33m.\u001b[0m\u001b[0mhead\u001b[0m\u001b[1;33m(\u001b[0m\u001b[1;33m)\u001b[0m\u001b[1;33m)\u001b[0m\u001b[1;33m\u001b[0m\u001b[1;33m\u001b[0m\u001b[0m\n",
      "\u001b[1;31mNameError\u001b[0m: name 'train_df' is not defined"
     ]
    }
   ],
   "source": [
    "train_df = train_df.drop('codigo',axis=1)\n",
    "print(train_df.head())"
   ]
  },
  {
   "cell_type": "code",
   "execution_count": 30,
   "metadata": {},
   "outputs": [
    {
     "ename": "KeyError",
     "evalue": "\"['Name'] not found in axis\"",
     "output_type": "error",
     "traceback": [
      "\u001b[1;31m---------------------------------------------------------------------------\u001b[0m",
      "\u001b[1;31mKeyError\u001b[0m                                  Traceback (most recent call last)",
      "\u001b[1;32m<ipython-input-30-fe76b55f292d>\u001b[0m in \u001b[0;36m<module>\u001b[1;34m\u001b[0m\n\u001b[1;32m----> 1\u001b[1;33m \u001b[0mplanilha\u001b[0m \u001b[1;33m=\u001b[0m \u001b[0mplanilha\u001b[0m\u001b[1;33m.\u001b[0m\u001b[0mdrop\u001b[0m\u001b[1;33m(\u001b[0m\u001b[1;34m'Name'\u001b[0m\u001b[1;33m,\u001b[0m\u001b[0maxis\u001b[0m\u001b[1;33m=\u001b[0m\u001b[1;36m1\u001b[0m\u001b[1;33m)\u001b[0m\u001b[1;33m\u001b[0m\u001b[1;33m\u001b[0m\u001b[0m\n\u001b[0m\u001b[0;32m      2\u001b[0m \u001b[0mprint\u001b[0m\u001b[1;33m(\u001b[0m\u001b[0mplanilha\u001b[0m\u001b[1;33m.\u001b[0m\u001b[0mhead\u001b[0m\u001b[1;33m(\u001b[0m\u001b[1;33m)\u001b[0m\u001b[1;33m)\u001b[0m\u001b[1;33m\u001b[0m\u001b[1;33m\u001b[0m\u001b[0m\n",
      "\u001b[1;32m~\\Anaconda3\\lib\\site-packages\\pandas\\core\\frame.py\u001b[0m in \u001b[0;36mdrop\u001b[1;34m(self, labels, axis, index, columns, level, inplace, errors)\u001b[0m\n\u001b[0;32m   4100\u001b[0m             \u001b[0mlevel\u001b[0m\u001b[1;33m=\u001b[0m\u001b[0mlevel\u001b[0m\u001b[1;33m,\u001b[0m\u001b[1;33m\u001b[0m\u001b[1;33m\u001b[0m\u001b[0m\n\u001b[0;32m   4101\u001b[0m             \u001b[0minplace\u001b[0m\u001b[1;33m=\u001b[0m\u001b[0minplace\u001b[0m\u001b[1;33m,\u001b[0m\u001b[1;33m\u001b[0m\u001b[1;33m\u001b[0m\u001b[0m\n\u001b[1;32m-> 4102\u001b[1;33m             \u001b[0merrors\u001b[0m\u001b[1;33m=\u001b[0m\u001b[0merrors\u001b[0m\u001b[1;33m,\u001b[0m\u001b[1;33m\u001b[0m\u001b[1;33m\u001b[0m\u001b[0m\n\u001b[0m\u001b[0;32m   4103\u001b[0m         )\n\u001b[0;32m   4104\u001b[0m \u001b[1;33m\u001b[0m\u001b[0m\n",
      "\u001b[1;32m~\\Anaconda3\\lib\\site-packages\\pandas\\core\\generic.py\u001b[0m in \u001b[0;36mdrop\u001b[1;34m(self, labels, axis, index, columns, level, inplace, errors)\u001b[0m\n\u001b[0;32m   3912\u001b[0m         \u001b[1;32mfor\u001b[0m \u001b[0maxis\u001b[0m\u001b[1;33m,\u001b[0m \u001b[0mlabels\u001b[0m \u001b[1;32min\u001b[0m \u001b[0maxes\u001b[0m\u001b[1;33m.\u001b[0m\u001b[0mitems\u001b[0m\u001b[1;33m(\u001b[0m\u001b[1;33m)\u001b[0m\u001b[1;33m:\u001b[0m\u001b[1;33m\u001b[0m\u001b[1;33m\u001b[0m\u001b[0m\n\u001b[0;32m   3913\u001b[0m             \u001b[1;32mif\u001b[0m \u001b[0mlabels\u001b[0m \u001b[1;32mis\u001b[0m \u001b[1;32mnot\u001b[0m \u001b[1;32mNone\u001b[0m\u001b[1;33m:\u001b[0m\u001b[1;33m\u001b[0m\u001b[1;33m\u001b[0m\u001b[0m\n\u001b[1;32m-> 3914\u001b[1;33m                 \u001b[0mobj\u001b[0m \u001b[1;33m=\u001b[0m \u001b[0mobj\u001b[0m\u001b[1;33m.\u001b[0m\u001b[0m_drop_axis\u001b[0m\u001b[1;33m(\u001b[0m\u001b[0mlabels\u001b[0m\u001b[1;33m,\u001b[0m \u001b[0maxis\u001b[0m\u001b[1;33m,\u001b[0m \u001b[0mlevel\u001b[0m\u001b[1;33m=\u001b[0m\u001b[0mlevel\u001b[0m\u001b[1;33m,\u001b[0m \u001b[0merrors\u001b[0m\u001b[1;33m=\u001b[0m\u001b[0merrors\u001b[0m\u001b[1;33m)\u001b[0m\u001b[1;33m\u001b[0m\u001b[1;33m\u001b[0m\u001b[0m\n\u001b[0m\u001b[0;32m   3915\u001b[0m \u001b[1;33m\u001b[0m\u001b[0m\n\u001b[0;32m   3916\u001b[0m         \u001b[1;32mif\u001b[0m \u001b[0minplace\u001b[0m\u001b[1;33m:\u001b[0m\u001b[1;33m\u001b[0m\u001b[1;33m\u001b[0m\u001b[0m\n",
      "\u001b[1;32m~\\Anaconda3\\lib\\site-packages\\pandas\\core\\generic.py\u001b[0m in \u001b[0;36m_drop_axis\u001b[1;34m(self, labels, axis, level, errors)\u001b[0m\n\u001b[0;32m   3944\u001b[0m                 \u001b[0mnew_axis\u001b[0m \u001b[1;33m=\u001b[0m \u001b[0maxis\u001b[0m\u001b[1;33m.\u001b[0m\u001b[0mdrop\u001b[0m\u001b[1;33m(\u001b[0m\u001b[0mlabels\u001b[0m\u001b[1;33m,\u001b[0m \u001b[0mlevel\u001b[0m\u001b[1;33m=\u001b[0m\u001b[0mlevel\u001b[0m\u001b[1;33m,\u001b[0m \u001b[0merrors\u001b[0m\u001b[1;33m=\u001b[0m\u001b[0merrors\u001b[0m\u001b[1;33m)\u001b[0m\u001b[1;33m\u001b[0m\u001b[1;33m\u001b[0m\u001b[0m\n\u001b[0;32m   3945\u001b[0m             \u001b[1;32melse\u001b[0m\u001b[1;33m:\u001b[0m\u001b[1;33m\u001b[0m\u001b[1;33m\u001b[0m\u001b[0m\n\u001b[1;32m-> 3946\u001b[1;33m                 \u001b[0mnew_axis\u001b[0m \u001b[1;33m=\u001b[0m \u001b[0maxis\u001b[0m\u001b[1;33m.\u001b[0m\u001b[0mdrop\u001b[0m\u001b[1;33m(\u001b[0m\u001b[0mlabels\u001b[0m\u001b[1;33m,\u001b[0m \u001b[0merrors\u001b[0m\u001b[1;33m=\u001b[0m\u001b[0merrors\u001b[0m\u001b[1;33m)\u001b[0m\u001b[1;33m\u001b[0m\u001b[1;33m\u001b[0m\u001b[0m\n\u001b[0m\u001b[0;32m   3947\u001b[0m             \u001b[0mresult\u001b[0m \u001b[1;33m=\u001b[0m \u001b[0mself\u001b[0m\u001b[1;33m.\u001b[0m\u001b[0mreindex\u001b[0m\u001b[1;33m(\u001b[0m\u001b[1;33m**\u001b[0m\u001b[1;33m{\u001b[0m\u001b[0maxis_name\u001b[0m\u001b[1;33m:\u001b[0m \u001b[0mnew_axis\u001b[0m\u001b[1;33m}\u001b[0m\u001b[1;33m)\u001b[0m\u001b[1;33m\u001b[0m\u001b[1;33m\u001b[0m\u001b[0m\n\u001b[0;32m   3948\u001b[0m \u001b[1;33m\u001b[0m\u001b[0m\n",
      "\u001b[1;32m~\\Anaconda3\\lib\\site-packages\\pandas\\core\\indexes\\base.py\u001b[0m in \u001b[0;36mdrop\u001b[1;34m(self, labels, errors)\u001b[0m\n\u001b[0;32m   5338\u001b[0m         \u001b[1;32mif\u001b[0m \u001b[0mmask\u001b[0m\u001b[1;33m.\u001b[0m\u001b[0many\u001b[0m\u001b[1;33m(\u001b[0m\u001b[1;33m)\u001b[0m\u001b[1;33m:\u001b[0m\u001b[1;33m\u001b[0m\u001b[1;33m\u001b[0m\u001b[0m\n\u001b[0;32m   5339\u001b[0m             \u001b[1;32mif\u001b[0m \u001b[0merrors\u001b[0m \u001b[1;33m!=\u001b[0m \u001b[1;34m\"ignore\"\u001b[0m\u001b[1;33m:\u001b[0m\u001b[1;33m\u001b[0m\u001b[1;33m\u001b[0m\u001b[0m\n\u001b[1;32m-> 5340\u001b[1;33m                 \u001b[1;32mraise\u001b[0m \u001b[0mKeyError\u001b[0m\u001b[1;33m(\u001b[0m\u001b[1;34m\"{} not found in axis\"\u001b[0m\u001b[1;33m.\u001b[0m\u001b[0mformat\u001b[0m\u001b[1;33m(\u001b[0m\u001b[0mlabels\u001b[0m\u001b[1;33m[\u001b[0m\u001b[0mmask\u001b[0m\u001b[1;33m]\u001b[0m\u001b[1;33m)\u001b[0m\u001b[1;33m)\u001b[0m\u001b[1;33m\u001b[0m\u001b[1;33m\u001b[0m\u001b[0m\n\u001b[0m\u001b[0;32m   5341\u001b[0m             \u001b[0mindexer\u001b[0m \u001b[1;33m=\u001b[0m \u001b[0mindexer\u001b[0m\u001b[1;33m[\u001b[0m\u001b[1;33m~\u001b[0m\u001b[0mmask\u001b[0m\u001b[1;33m]\u001b[0m\u001b[1;33m\u001b[0m\u001b[1;33m\u001b[0m\u001b[0m\n\u001b[0;32m   5342\u001b[0m         \u001b[1;32mreturn\u001b[0m \u001b[0mself\u001b[0m\u001b[1;33m.\u001b[0m\u001b[0mdelete\u001b[0m\u001b[1;33m(\u001b[0m\u001b[0mindexer\u001b[0m\u001b[1;33m)\u001b[0m\u001b[1;33m\u001b[0m\u001b[1;33m\u001b[0m\u001b[0m\n",
      "\u001b[1;31mKeyError\u001b[0m: \"['Name'] not found in axis\""
     ]
    }
   ],
   "source": [
    "planilha = planilha.drop('Name',axis=1)\n",
    "print(planilha.head())"
   ]
  },
  {
   "cell_type": "code",
   "execution_count": 31,
   "metadata": {},
   "outputs": [
    {
     "ename": "KeyError",
     "evalue": "\"['ocorrencia'] not found in axis\"",
     "output_type": "error",
     "traceback": [
      "\u001b[1;31m---------------------------------------------------------------------------\u001b[0m",
      "\u001b[1;31mKeyError\u001b[0m                                  Traceback (most recent call last)",
      "\u001b[1;32m<ipython-input-31-4ff0a5b1a71b>\u001b[0m in \u001b[0;36m<module>\u001b[1;34m\u001b[0m\n\u001b[1;32m----> 1\u001b[1;33m \u001b[0mplanilha\u001b[0m \u001b[1;33m=\u001b[0m \u001b[0mplanilha\u001b[0m\u001b[1;33m.\u001b[0m\u001b[0mdrop\u001b[0m\u001b[1;33m(\u001b[0m\u001b[1;34m'ocorrencia'\u001b[0m\u001b[1;33m,\u001b[0m\u001b[0maxis\u001b[0m\u001b[1;33m=\u001b[0m\u001b[1;36m1\u001b[0m\u001b[1;33m)\u001b[0m\u001b[1;33m\u001b[0m\u001b[1;33m\u001b[0m\u001b[0m\n\u001b[0m\u001b[0;32m      2\u001b[0m \u001b[0mprint\u001b[0m\u001b[1;33m(\u001b[0m\u001b[0mplanilha\u001b[0m\u001b[1;33m.\u001b[0m\u001b[0mhead\u001b[0m\u001b[1;33m(\u001b[0m\u001b[1;33m)\u001b[0m\u001b[1;33m)\u001b[0m\u001b[1;33m\u001b[0m\u001b[1;33m\u001b[0m\u001b[0m\n",
      "\u001b[1;32m~\\Anaconda3\\lib\\site-packages\\pandas\\core\\frame.py\u001b[0m in \u001b[0;36mdrop\u001b[1;34m(self, labels, axis, index, columns, level, inplace, errors)\u001b[0m\n\u001b[0;32m   4100\u001b[0m             \u001b[0mlevel\u001b[0m\u001b[1;33m=\u001b[0m\u001b[0mlevel\u001b[0m\u001b[1;33m,\u001b[0m\u001b[1;33m\u001b[0m\u001b[1;33m\u001b[0m\u001b[0m\n\u001b[0;32m   4101\u001b[0m             \u001b[0minplace\u001b[0m\u001b[1;33m=\u001b[0m\u001b[0minplace\u001b[0m\u001b[1;33m,\u001b[0m\u001b[1;33m\u001b[0m\u001b[1;33m\u001b[0m\u001b[0m\n\u001b[1;32m-> 4102\u001b[1;33m             \u001b[0merrors\u001b[0m\u001b[1;33m=\u001b[0m\u001b[0merrors\u001b[0m\u001b[1;33m,\u001b[0m\u001b[1;33m\u001b[0m\u001b[1;33m\u001b[0m\u001b[0m\n\u001b[0m\u001b[0;32m   4103\u001b[0m         )\n\u001b[0;32m   4104\u001b[0m \u001b[1;33m\u001b[0m\u001b[0m\n",
      "\u001b[1;32m~\\Anaconda3\\lib\\site-packages\\pandas\\core\\generic.py\u001b[0m in \u001b[0;36mdrop\u001b[1;34m(self, labels, axis, index, columns, level, inplace, errors)\u001b[0m\n\u001b[0;32m   3912\u001b[0m         \u001b[1;32mfor\u001b[0m \u001b[0maxis\u001b[0m\u001b[1;33m,\u001b[0m \u001b[0mlabels\u001b[0m \u001b[1;32min\u001b[0m \u001b[0maxes\u001b[0m\u001b[1;33m.\u001b[0m\u001b[0mitems\u001b[0m\u001b[1;33m(\u001b[0m\u001b[1;33m)\u001b[0m\u001b[1;33m:\u001b[0m\u001b[1;33m\u001b[0m\u001b[1;33m\u001b[0m\u001b[0m\n\u001b[0;32m   3913\u001b[0m             \u001b[1;32mif\u001b[0m \u001b[0mlabels\u001b[0m \u001b[1;32mis\u001b[0m \u001b[1;32mnot\u001b[0m \u001b[1;32mNone\u001b[0m\u001b[1;33m:\u001b[0m\u001b[1;33m\u001b[0m\u001b[1;33m\u001b[0m\u001b[0m\n\u001b[1;32m-> 3914\u001b[1;33m                 \u001b[0mobj\u001b[0m \u001b[1;33m=\u001b[0m \u001b[0mobj\u001b[0m\u001b[1;33m.\u001b[0m\u001b[0m_drop_axis\u001b[0m\u001b[1;33m(\u001b[0m\u001b[0mlabels\u001b[0m\u001b[1;33m,\u001b[0m \u001b[0maxis\u001b[0m\u001b[1;33m,\u001b[0m \u001b[0mlevel\u001b[0m\u001b[1;33m=\u001b[0m\u001b[0mlevel\u001b[0m\u001b[1;33m,\u001b[0m \u001b[0merrors\u001b[0m\u001b[1;33m=\u001b[0m\u001b[0merrors\u001b[0m\u001b[1;33m)\u001b[0m\u001b[1;33m\u001b[0m\u001b[1;33m\u001b[0m\u001b[0m\n\u001b[0m\u001b[0;32m   3915\u001b[0m \u001b[1;33m\u001b[0m\u001b[0m\n\u001b[0;32m   3916\u001b[0m         \u001b[1;32mif\u001b[0m \u001b[0minplace\u001b[0m\u001b[1;33m:\u001b[0m\u001b[1;33m\u001b[0m\u001b[1;33m\u001b[0m\u001b[0m\n",
      "\u001b[1;32m~\\Anaconda3\\lib\\site-packages\\pandas\\core\\generic.py\u001b[0m in \u001b[0;36m_drop_axis\u001b[1;34m(self, labels, axis, level, errors)\u001b[0m\n\u001b[0;32m   3944\u001b[0m                 \u001b[0mnew_axis\u001b[0m \u001b[1;33m=\u001b[0m \u001b[0maxis\u001b[0m\u001b[1;33m.\u001b[0m\u001b[0mdrop\u001b[0m\u001b[1;33m(\u001b[0m\u001b[0mlabels\u001b[0m\u001b[1;33m,\u001b[0m \u001b[0mlevel\u001b[0m\u001b[1;33m=\u001b[0m\u001b[0mlevel\u001b[0m\u001b[1;33m,\u001b[0m \u001b[0merrors\u001b[0m\u001b[1;33m=\u001b[0m\u001b[0merrors\u001b[0m\u001b[1;33m)\u001b[0m\u001b[1;33m\u001b[0m\u001b[1;33m\u001b[0m\u001b[0m\n\u001b[0;32m   3945\u001b[0m             \u001b[1;32melse\u001b[0m\u001b[1;33m:\u001b[0m\u001b[1;33m\u001b[0m\u001b[1;33m\u001b[0m\u001b[0m\n\u001b[1;32m-> 3946\u001b[1;33m                 \u001b[0mnew_axis\u001b[0m \u001b[1;33m=\u001b[0m \u001b[0maxis\u001b[0m\u001b[1;33m.\u001b[0m\u001b[0mdrop\u001b[0m\u001b[1;33m(\u001b[0m\u001b[0mlabels\u001b[0m\u001b[1;33m,\u001b[0m \u001b[0merrors\u001b[0m\u001b[1;33m=\u001b[0m\u001b[0merrors\u001b[0m\u001b[1;33m)\u001b[0m\u001b[1;33m\u001b[0m\u001b[1;33m\u001b[0m\u001b[0m\n\u001b[0m\u001b[0;32m   3947\u001b[0m             \u001b[0mresult\u001b[0m \u001b[1;33m=\u001b[0m \u001b[0mself\u001b[0m\u001b[1;33m.\u001b[0m\u001b[0mreindex\u001b[0m\u001b[1;33m(\u001b[0m\u001b[1;33m**\u001b[0m\u001b[1;33m{\u001b[0m\u001b[0maxis_name\u001b[0m\u001b[1;33m:\u001b[0m \u001b[0mnew_axis\u001b[0m\u001b[1;33m}\u001b[0m\u001b[1;33m)\u001b[0m\u001b[1;33m\u001b[0m\u001b[1;33m\u001b[0m\u001b[0m\n\u001b[0;32m   3948\u001b[0m \u001b[1;33m\u001b[0m\u001b[0m\n",
      "\u001b[1;32m~\\Anaconda3\\lib\\site-packages\\pandas\\core\\indexes\\base.py\u001b[0m in \u001b[0;36mdrop\u001b[1;34m(self, labels, errors)\u001b[0m\n\u001b[0;32m   5338\u001b[0m         \u001b[1;32mif\u001b[0m \u001b[0mmask\u001b[0m\u001b[1;33m.\u001b[0m\u001b[0many\u001b[0m\u001b[1;33m(\u001b[0m\u001b[1;33m)\u001b[0m\u001b[1;33m:\u001b[0m\u001b[1;33m\u001b[0m\u001b[1;33m\u001b[0m\u001b[0m\n\u001b[0;32m   5339\u001b[0m             \u001b[1;32mif\u001b[0m \u001b[0merrors\u001b[0m \u001b[1;33m!=\u001b[0m \u001b[1;34m\"ignore\"\u001b[0m\u001b[1;33m:\u001b[0m\u001b[1;33m\u001b[0m\u001b[1;33m\u001b[0m\u001b[0m\n\u001b[1;32m-> 5340\u001b[1;33m                 \u001b[1;32mraise\u001b[0m \u001b[0mKeyError\u001b[0m\u001b[1;33m(\u001b[0m\u001b[1;34m\"{} not found in axis\"\u001b[0m\u001b[1;33m.\u001b[0m\u001b[0mformat\u001b[0m\u001b[1;33m(\u001b[0m\u001b[0mlabels\u001b[0m\u001b[1;33m[\u001b[0m\u001b[0mmask\u001b[0m\u001b[1;33m]\u001b[0m\u001b[1;33m)\u001b[0m\u001b[1;33m)\u001b[0m\u001b[1;33m\u001b[0m\u001b[1;33m\u001b[0m\u001b[0m\n\u001b[0m\u001b[0;32m   5341\u001b[0m             \u001b[0mindexer\u001b[0m \u001b[1;33m=\u001b[0m \u001b[0mindexer\u001b[0m\u001b[1;33m[\u001b[0m\u001b[1;33m~\u001b[0m\u001b[0mmask\u001b[0m\u001b[1;33m]\u001b[0m\u001b[1;33m\u001b[0m\u001b[1;33m\u001b[0m\u001b[0m\n\u001b[0;32m   5342\u001b[0m         \u001b[1;32mreturn\u001b[0m \u001b[0mself\u001b[0m\u001b[1;33m.\u001b[0m\u001b[0mdelete\u001b[0m\u001b[1;33m(\u001b[0m\u001b[0mindexer\u001b[0m\u001b[1;33m)\u001b[0m\u001b[1;33m\u001b[0m\u001b[1;33m\u001b[0m\u001b[0m\n",
      "\u001b[1;31mKeyError\u001b[0m: \"['ocorrencia'] not found in axis\""
     ]
    }
   ],
   "source": [
    "planilha = planilha.drop('ocorrencia',axis=1)\n",
    "print(planilha.head())"
   ]
  },
  {
   "cell_type": "code",
   "execution_count": 32,
   "metadata": {},
   "outputs": [
    {
     "ename": "KeyError",
     "evalue": "\"[' , '] not found in axis\"",
     "output_type": "error",
     "traceback": [
      "\u001b[1;31m---------------------------------------------------------------------------\u001b[0m",
      "\u001b[1;31mKeyError\u001b[0m                                  Traceback (most recent call last)",
      "\u001b[1;32m<ipython-input-32-78f35d1f0a10>\u001b[0m in \u001b[0;36m<module>\u001b[1;34m\u001b[0m\n\u001b[1;32m----> 1\u001b[1;33m \u001b[0mplanilha\u001b[0m \u001b[1;33m=\u001b[0m \u001b[0mplanilha\u001b[0m\u001b[1;33m.\u001b[0m\u001b[0mdrop\u001b[0m\u001b[1;33m(\u001b[0m\u001b[1;34m' , '\u001b[0m\u001b[1;33m,\u001b[0m\u001b[0maxis\u001b[0m\u001b[1;33m=\u001b[0m\u001b[1;36m1\u001b[0m\u001b[1;33m)\u001b[0m\u001b[1;33m\u001b[0m\u001b[1;33m\u001b[0m\u001b[0m\n\u001b[0m\u001b[0;32m      2\u001b[0m \u001b[0mprint\u001b[0m\u001b[1;33m(\u001b[0m\u001b[0mplanilha\u001b[0m\u001b[1;33m.\u001b[0m\u001b[0mhead\u001b[0m\u001b[1;33m(\u001b[0m\u001b[1;33m)\u001b[0m\u001b[1;33m)\u001b[0m\u001b[1;33m\u001b[0m\u001b[1;33m\u001b[0m\u001b[0m\n",
      "\u001b[1;32m~\\Anaconda3\\lib\\site-packages\\pandas\\core\\frame.py\u001b[0m in \u001b[0;36mdrop\u001b[1;34m(self, labels, axis, index, columns, level, inplace, errors)\u001b[0m\n\u001b[0;32m   4100\u001b[0m             \u001b[0mlevel\u001b[0m\u001b[1;33m=\u001b[0m\u001b[0mlevel\u001b[0m\u001b[1;33m,\u001b[0m\u001b[1;33m\u001b[0m\u001b[1;33m\u001b[0m\u001b[0m\n\u001b[0;32m   4101\u001b[0m             \u001b[0minplace\u001b[0m\u001b[1;33m=\u001b[0m\u001b[0minplace\u001b[0m\u001b[1;33m,\u001b[0m\u001b[1;33m\u001b[0m\u001b[1;33m\u001b[0m\u001b[0m\n\u001b[1;32m-> 4102\u001b[1;33m             \u001b[0merrors\u001b[0m\u001b[1;33m=\u001b[0m\u001b[0merrors\u001b[0m\u001b[1;33m,\u001b[0m\u001b[1;33m\u001b[0m\u001b[1;33m\u001b[0m\u001b[0m\n\u001b[0m\u001b[0;32m   4103\u001b[0m         )\n\u001b[0;32m   4104\u001b[0m \u001b[1;33m\u001b[0m\u001b[0m\n",
      "\u001b[1;32m~\\Anaconda3\\lib\\site-packages\\pandas\\core\\generic.py\u001b[0m in \u001b[0;36mdrop\u001b[1;34m(self, labels, axis, index, columns, level, inplace, errors)\u001b[0m\n\u001b[0;32m   3912\u001b[0m         \u001b[1;32mfor\u001b[0m \u001b[0maxis\u001b[0m\u001b[1;33m,\u001b[0m \u001b[0mlabels\u001b[0m \u001b[1;32min\u001b[0m \u001b[0maxes\u001b[0m\u001b[1;33m.\u001b[0m\u001b[0mitems\u001b[0m\u001b[1;33m(\u001b[0m\u001b[1;33m)\u001b[0m\u001b[1;33m:\u001b[0m\u001b[1;33m\u001b[0m\u001b[1;33m\u001b[0m\u001b[0m\n\u001b[0;32m   3913\u001b[0m             \u001b[1;32mif\u001b[0m \u001b[0mlabels\u001b[0m \u001b[1;32mis\u001b[0m \u001b[1;32mnot\u001b[0m \u001b[1;32mNone\u001b[0m\u001b[1;33m:\u001b[0m\u001b[1;33m\u001b[0m\u001b[1;33m\u001b[0m\u001b[0m\n\u001b[1;32m-> 3914\u001b[1;33m                 \u001b[0mobj\u001b[0m \u001b[1;33m=\u001b[0m \u001b[0mobj\u001b[0m\u001b[1;33m.\u001b[0m\u001b[0m_drop_axis\u001b[0m\u001b[1;33m(\u001b[0m\u001b[0mlabels\u001b[0m\u001b[1;33m,\u001b[0m \u001b[0maxis\u001b[0m\u001b[1;33m,\u001b[0m \u001b[0mlevel\u001b[0m\u001b[1;33m=\u001b[0m\u001b[0mlevel\u001b[0m\u001b[1;33m,\u001b[0m \u001b[0merrors\u001b[0m\u001b[1;33m=\u001b[0m\u001b[0merrors\u001b[0m\u001b[1;33m)\u001b[0m\u001b[1;33m\u001b[0m\u001b[1;33m\u001b[0m\u001b[0m\n\u001b[0m\u001b[0;32m   3915\u001b[0m \u001b[1;33m\u001b[0m\u001b[0m\n\u001b[0;32m   3916\u001b[0m         \u001b[1;32mif\u001b[0m \u001b[0minplace\u001b[0m\u001b[1;33m:\u001b[0m\u001b[1;33m\u001b[0m\u001b[1;33m\u001b[0m\u001b[0m\n",
      "\u001b[1;32m~\\Anaconda3\\lib\\site-packages\\pandas\\core\\generic.py\u001b[0m in \u001b[0;36m_drop_axis\u001b[1;34m(self, labels, axis, level, errors)\u001b[0m\n\u001b[0;32m   3944\u001b[0m                 \u001b[0mnew_axis\u001b[0m \u001b[1;33m=\u001b[0m \u001b[0maxis\u001b[0m\u001b[1;33m.\u001b[0m\u001b[0mdrop\u001b[0m\u001b[1;33m(\u001b[0m\u001b[0mlabels\u001b[0m\u001b[1;33m,\u001b[0m \u001b[0mlevel\u001b[0m\u001b[1;33m=\u001b[0m\u001b[0mlevel\u001b[0m\u001b[1;33m,\u001b[0m \u001b[0merrors\u001b[0m\u001b[1;33m=\u001b[0m\u001b[0merrors\u001b[0m\u001b[1;33m)\u001b[0m\u001b[1;33m\u001b[0m\u001b[1;33m\u001b[0m\u001b[0m\n\u001b[0;32m   3945\u001b[0m             \u001b[1;32melse\u001b[0m\u001b[1;33m:\u001b[0m\u001b[1;33m\u001b[0m\u001b[1;33m\u001b[0m\u001b[0m\n\u001b[1;32m-> 3946\u001b[1;33m                 \u001b[0mnew_axis\u001b[0m \u001b[1;33m=\u001b[0m \u001b[0maxis\u001b[0m\u001b[1;33m.\u001b[0m\u001b[0mdrop\u001b[0m\u001b[1;33m(\u001b[0m\u001b[0mlabels\u001b[0m\u001b[1;33m,\u001b[0m \u001b[0merrors\u001b[0m\u001b[1;33m=\u001b[0m\u001b[0merrors\u001b[0m\u001b[1;33m)\u001b[0m\u001b[1;33m\u001b[0m\u001b[1;33m\u001b[0m\u001b[0m\n\u001b[0m\u001b[0;32m   3947\u001b[0m             \u001b[0mresult\u001b[0m \u001b[1;33m=\u001b[0m \u001b[0mself\u001b[0m\u001b[1;33m.\u001b[0m\u001b[0mreindex\u001b[0m\u001b[1;33m(\u001b[0m\u001b[1;33m**\u001b[0m\u001b[1;33m{\u001b[0m\u001b[0maxis_name\u001b[0m\u001b[1;33m:\u001b[0m \u001b[0mnew_axis\u001b[0m\u001b[1;33m}\u001b[0m\u001b[1;33m)\u001b[0m\u001b[1;33m\u001b[0m\u001b[1;33m\u001b[0m\u001b[0m\n\u001b[0;32m   3948\u001b[0m \u001b[1;33m\u001b[0m\u001b[0m\n",
      "\u001b[1;32m~\\Anaconda3\\lib\\site-packages\\pandas\\core\\indexes\\base.py\u001b[0m in \u001b[0;36mdrop\u001b[1;34m(self, labels, errors)\u001b[0m\n\u001b[0;32m   5338\u001b[0m         \u001b[1;32mif\u001b[0m \u001b[0mmask\u001b[0m\u001b[1;33m.\u001b[0m\u001b[0many\u001b[0m\u001b[1;33m(\u001b[0m\u001b[1;33m)\u001b[0m\u001b[1;33m:\u001b[0m\u001b[1;33m\u001b[0m\u001b[1;33m\u001b[0m\u001b[0m\n\u001b[0;32m   5339\u001b[0m             \u001b[1;32mif\u001b[0m \u001b[0merrors\u001b[0m \u001b[1;33m!=\u001b[0m \u001b[1;34m\"ignore\"\u001b[0m\u001b[1;33m:\u001b[0m\u001b[1;33m\u001b[0m\u001b[1;33m\u001b[0m\u001b[0m\n\u001b[1;32m-> 5340\u001b[1;33m                 \u001b[1;32mraise\u001b[0m \u001b[0mKeyError\u001b[0m\u001b[1;33m(\u001b[0m\u001b[1;34m\"{} not found in axis\"\u001b[0m\u001b[1;33m.\u001b[0m\u001b[0mformat\u001b[0m\u001b[1;33m(\u001b[0m\u001b[0mlabels\u001b[0m\u001b[1;33m[\u001b[0m\u001b[0mmask\u001b[0m\u001b[1;33m]\u001b[0m\u001b[1;33m)\u001b[0m\u001b[1;33m)\u001b[0m\u001b[1;33m\u001b[0m\u001b[1;33m\u001b[0m\u001b[0m\n\u001b[0m\u001b[0;32m   5341\u001b[0m             \u001b[0mindexer\u001b[0m \u001b[1;33m=\u001b[0m \u001b[0mindexer\u001b[0m\u001b[1;33m[\u001b[0m\u001b[1;33m~\u001b[0m\u001b[0mmask\u001b[0m\u001b[1;33m]\u001b[0m\u001b[1;33m\u001b[0m\u001b[1;33m\u001b[0m\u001b[0m\n\u001b[0;32m   5342\u001b[0m         \u001b[1;32mreturn\u001b[0m \u001b[0mself\u001b[0m\u001b[1;33m.\u001b[0m\u001b[0mdelete\u001b[0m\u001b[1;33m(\u001b[0m\u001b[0mindexer\u001b[0m\u001b[1;33m)\u001b[0m\u001b[1;33m\u001b[0m\u001b[1;33m\u001b[0m\u001b[0m\n",
      "\u001b[1;31mKeyError\u001b[0m: \"[' , '] not found in axis\""
     ]
    }
   ],
   "source": [
    "planilha = planilha.drop(' , ',axis=1)\n",
    "print(planilha.head())"
   ]
  },
  {
   "cell_type": "code",
   "execution_count": 36,
   "metadata": {},
   "outputs": [
    {
     "data": {
      "text/html": [
       "<div>\n",
       "<style scoped>\n",
       "    .dataframe tbody tr th:only-of-type {\n",
       "        vertical-align: middle;\n",
       "    }\n",
       "\n",
       "    .dataframe tbody tr th {\n",
       "        vertical-align: top;\n",
       "    }\n",
       "\n",
       "    .dataframe thead th {\n",
       "        text-align: right;\n",
       "    }\n",
       "</style>\n",
       "<table border=\"1\" class=\"dataframe\">\n",
       "  <thead>\n",
       "    <tr style=\"text-align: right;\">\n",
       "      <th></th>\n",
       "      <th>codigo_ocorrencia~\"ocorrencia_classificacao\"~\"ocorrencia_tipo\"~\"ocorrencia_tipo_categoria\"~\"ocorrencia_tipo_icao\"~\"ocorrencia_latitude\"~\"ocorrencia_longitude\"~\"ocorrencia_cidade\"~\"ocorrencia_uf\"~\"ocorrencia_pais\"~\"ocorrencia_aerodromo\"~\"ocorrencia_dia\"~\"ocorrencia_horario\"~\"investigacao_aeronave_liberada\"~\"investigacao_status\"~\"divulgacao_relatorio_numero\"~\"divulgacao_relatorio_publicado\"~\"divulgacao_dia_publicacao\"~\"total_recomendacoes\"~\"total_aeronaves_envolvidas\"~\"ocorrencia_saida_pista\"~\"ocorrencia_dia_extracao\"</th>\n",
       "    </tr>\n",
       "  </thead>\n",
       "  <tbody>\n",
       "    <tr>\n",
       "      <td>0</td>\n",
       "      <td>201305055424986~\"ACIDENTE\"~\"FALHA DO MOTOR EM ...</td>\n",
       "    </tr>\n",
       "    <tr>\n",
       "      <td>1</td>\n",
       "      <td>201311259977425~\"INCIDENTE GRAVE\"~\"POUSO SEM T...</td>\n",
       "    </tr>\n",
       "    <tr>\n",
       "      <td>2</td>\n",
       "      <td>201605160250139~\"INCIDENTE GRAVE\"~\"COLISÃO COM...</td>\n",
       "    </tr>\n",
       "    <tr>\n",
       "      <td>3</td>\n",
       "      <td>201805021421302~\"INCIDENTE\"~\"AERÓDROMO\"~\"AERÓD...</td>\n",
       "    </tr>\n",
       "    <tr>\n",
       "      <td>4</td>\n",
       "      <td>201103187273112~\"INCIDENTE\"~\"OUTROS\"~\"OUTROS\"~...</td>\n",
       "    </tr>\n",
       "    <tr>\n",
       "      <td>5</td>\n",
       "      <td>200902274965349~\"INCIDENTE\"~\"PERDA DE CONTROLE...</td>\n",
       "    </tr>\n",
       "    <tr>\n",
       "      <td>6</td>\n",
       "      <td>201604251335501~\"INCIDENTE GRAVE\"~\"TRÁFEGO AÉR...</td>\n",
       "    </tr>\n",
       "    <tr>\n",
       "      <td>7</td>\n",
       "      <td>201108118145873~\"ACIDENTE\"~\"POUSO LONGO\"~\"EXCU...</td>\n",
       "    </tr>\n",
       "    <tr>\n",
       "      <td>8</td>\n",
       "      <td>201604062021424~\"ACIDENTE\"~\"PERDA DE CONTROLE ...</td>\n",
       "    </tr>\n",
       "    <tr>\n",
       "      <td>9</td>\n",
       "      <td>200912289948837~\"ACIDENTE\"~\"PERDA DE CONTROLE ...</td>\n",
       "    </tr>\n",
       "    <tr>\n",
       "      <td>10</td>\n",
       "      <td>201904101638476~\"ACIDENTE\"~\"FALHA DO MOTOR EM ...</td>\n",
       "    </tr>\n",
       "    <tr>\n",
       "      <td>11</td>\n",
       "      <td>201211159478138~\"ACIDENTE\"~\"FALHA DO MOTOR EM ...</td>\n",
       "    </tr>\n",
       "    <tr>\n",
       "      <td>12</td>\n",
       "      <td>201111224132085~\"ACIDENTE\"~\"FALHA DO MOTOR EM ...</td>\n",
       "    </tr>\n",
       "    <tr>\n",
       "      <td>13</td>\n",
       "      <td>201104061447671~\"ACIDENTE\"~\"PERDA DE CONTROLE ...</td>\n",
       "    </tr>\n",
       "    <tr>\n",
       "      <td>14</td>\n",
       "      <td>201006099196125~\"ACIDENTE\"~\"INDETERMINADO\"~\"IN...</td>\n",
       "    </tr>\n",
       "    <tr>\n",
       "      <td>15</td>\n",
       "      <td>201407101908656~\"INCIDENTE\"~\"ESTOURO DE PNEU\"~...</td>\n",
       "    </tr>\n",
       "    <tr>\n",
       "      <td>16</td>\n",
       "      <td>201009213278405~\"ACIDENTE\"~\"PERDA DE CONTROLE ...</td>\n",
       "    </tr>\n",
       "    <tr>\n",
       "      <td>17</td>\n",
       "      <td>201208018273083~\"ACIDENTE\"~\"COM TREM DE POUSO\"...</td>\n",
       "    </tr>\n",
       "    <tr>\n",
       "      <td>18</td>\n",
       "      <td>201106206058374~\"INCIDENTE\"~\"PERDA DE CONTROLE...</td>\n",
       "    </tr>\n",
       "    <tr>\n",
       "      <td>19</td>\n",
       "      <td>201609191241236~\"ACIDENTE\"~\"PERDA DE CONTROLE ...</td>\n",
       "    </tr>\n",
       "  </tbody>\n",
       "</table>\n",
       "</div>"
      ],
      "text/plain": [
       "   codigo_ocorrencia~\"ocorrencia_classificacao\"~\"ocorrencia_tipo\"~\"ocorrencia_tipo_categoria\"~\"ocorrencia_tipo_icao\"~\"ocorrencia_latitude\"~\"ocorrencia_longitude\"~\"ocorrencia_cidade\"~\"ocorrencia_uf\"~\"ocorrencia_pais\"~\"ocorrencia_aerodromo\"~\"ocorrencia_dia\"~\"ocorrencia_horario\"~\"investigacao_aeronave_liberada\"~\"investigacao_status\"~\"divulgacao_relatorio_numero\"~\"divulgacao_relatorio_publicado\"~\"divulgacao_dia_publicacao\"~\"total_recomendacoes\"~\"total_aeronaves_envolvidas\"~\"ocorrencia_saida_pista\"~\"ocorrencia_dia_extracao\"\n",
       "0   201305055424986~\"ACIDENTE\"~\"FALHA DO MOTOR EM ...                                                                                                                                                                                                                                                                                                                                                                                                                                                                                       \n",
       "1   201311259977425~\"INCIDENTE GRAVE\"~\"POUSO SEM T...                                                                                                                                                                                                                                                                                                                                                                                                                                                                                       \n",
       "2   201605160250139~\"INCIDENTE GRAVE\"~\"COLISÃO COM...                                                                                                                                                                                                                                                                                                                                                                                                                                                                                       \n",
       "3   201805021421302~\"INCIDENTE\"~\"AERÓDROMO\"~\"AERÓD...                                                                                                                                                                                                                                                                                                                                                                                                                                                                                       \n",
       "4   201103187273112~\"INCIDENTE\"~\"OUTROS\"~\"OUTROS\"~...                                                                                                                                                                                                                                                                                                                                                                                                                                                                                       \n",
       "5   200902274965349~\"INCIDENTE\"~\"PERDA DE CONTROLE...                                                                                                                                                                                                                                                                                                                                                                                                                                                                                       \n",
       "6   201604251335501~\"INCIDENTE GRAVE\"~\"TRÁFEGO AÉR...                                                                                                                                                                                                                                                                                                                                                                                                                                                                                       \n",
       "7   201108118145873~\"ACIDENTE\"~\"POUSO LONGO\"~\"EXCU...                                                                                                                                                                                                                                                                                                                                                                                                                                                                                       \n",
       "8   201604062021424~\"ACIDENTE\"~\"PERDA DE CONTROLE ...                                                                                                                                                                                                                                                                                                                                                                                                                                                                                       \n",
       "9   200912289948837~\"ACIDENTE\"~\"PERDA DE CONTROLE ...                                                                                                                                                                                                                                                                                                                                                                                                                                                                                       \n",
       "10  201904101638476~\"ACIDENTE\"~\"FALHA DO MOTOR EM ...                                                                                                                                                                                                                                                                                                                                                                                                                                                                                       \n",
       "11  201211159478138~\"ACIDENTE\"~\"FALHA DO MOTOR EM ...                                                                                                                                                                                                                                                                                                                                                                                                                                                                                       \n",
       "12  201111224132085~\"ACIDENTE\"~\"FALHA DO MOTOR EM ...                                                                                                                                                                                                                                                                                                                                                                                                                                                                                       \n",
       "13  201104061447671~\"ACIDENTE\"~\"PERDA DE CONTROLE ...                                                                                                                                                                                                                                                                                                                                                                                                                                                                                       \n",
       "14  201006099196125~\"ACIDENTE\"~\"INDETERMINADO\"~\"IN...                                                                                                                                                                                                                                                                                                                                                                                                                                                                                       \n",
       "15  201407101908656~\"INCIDENTE\"~\"ESTOURO DE PNEU\"~...                                                                                                                                                                                                                                                                                                                                                                                                                                                                                       \n",
       "16  201009213278405~\"ACIDENTE\"~\"PERDA DE CONTROLE ...                                                                                                                                                                                                                                                                                                                                                                                                                                                                                       \n",
       "17  201208018273083~\"ACIDENTE\"~\"COM TREM DE POUSO\"...                                                                                                                                                                                                                                                                                                                                                                                                                                                                                       \n",
       "18  201106206058374~\"INCIDENTE\"~\"PERDA DE CONTROLE...                                                                                                                                                                                                                                                                                                                                                                                                                                                                                       \n",
       "19  201609191241236~\"ACIDENTE\"~\"PERDA DE CONTROLE ...                                                                                                                                                                                                                                                                                                                                                                                                                                                                                       "
      ]
     },
     "execution_count": 36,
     "metadata": {},
     "output_type": "execute_result"
    }
   ],
   "source": [
    "planilha.head(20)"
   ]
  },
  {
   "cell_type": "code",
   "execution_count": 33,
   "metadata": {},
   "outputs": [
    {
     "ename": "ValueError",
     "evalue": "Need to specify at least one of 'labels', 'index' or 'columns'",
     "output_type": "error",
     "traceback": [
      "\u001b[1;31m---------------------------------------------------------------------------\u001b[0m",
      "\u001b[1;31mValueError\u001b[0m                                Traceback (most recent call last)",
      "\u001b[1;32m<ipython-input-33-f3108cc56cdf>\u001b[0m in \u001b[0;36m<module>\u001b[1;34m\u001b[0m\n\u001b[1;32m----> 1\u001b[1;33m \u001b[0mplanilha\u001b[0m \u001b[1;33m=\u001b[0m \u001b[0mplanilha\u001b[0m\u001b[1;33m.\u001b[0m\u001b[0mdrop\u001b[0m\u001b[1;33m(\u001b[0m\u001b[0maxis\u001b[0m\u001b[1;33m=\u001b[0m\u001b[1;36m1\u001b[0m\u001b[1;33m)\u001b[0m\u001b[1;33m\u001b[0m\u001b[1;33m\u001b[0m\u001b[0m\n\u001b[0m\u001b[0;32m      2\u001b[0m \u001b[0mprint\u001b[0m\u001b[1;33m(\u001b[0m\u001b[0mplanilha\u001b[0m\u001b[1;33m.\u001b[0m\u001b[0mhead\u001b[0m\u001b[1;33m(\u001b[0m\u001b[1;33m)\u001b[0m\u001b[1;33m)\u001b[0m\u001b[1;33m\u001b[0m\u001b[1;33m\u001b[0m\u001b[0m\n",
      "\u001b[1;32m~\\Anaconda3\\lib\\site-packages\\pandas\\core\\frame.py\u001b[0m in \u001b[0;36mdrop\u001b[1;34m(self, labels, axis, index, columns, level, inplace, errors)\u001b[0m\n\u001b[0;32m   4100\u001b[0m             \u001b[0mlevel\u001b[0m\u001b[1;33m=\u001b[0m\u001b[0mlevel\u001b[0m\u001b[1;33m,\u001b[0m\u001b[1;33m\u001b[0m\u001b[1;33m\u001b[0m\u001b[0m\n\u001b[0;32m   4101\u001b[0m             \u001b[0minplace\u001b[0m\u001b[1;33m=\u001b[0m\u001b[0minplace\u001b[0m\u001b[1;33m,\u001b[0m\u001b[1;33m\u001b[0m\u001b[1;33m\u001b[0m\u001b[0m\n\u001b[1;32m-> 4102\u001b[1;33m             \u001b[0merrors\u001b[0m\u001b[1;33m=\u001b[0m\u001b[0merrors\u001b[0m\u001b[1;33m,\u001b[0m\u001b[1;33m\u001b[0m\u001b[1;33m\u001b[0m\u001b[0m\n\u001b[0m\u001b[0;32m   4103\u001b[0m         )\n\u001b[0;32m   4104\u001b[0m \u001b[1;33m\u001b[0m\u001b[0m\n",
      "\u001b[1;32m~\\Anaconda3\\lib\\site-packages\\pandas\\core\\generic.py\u001b[0m in \u001b[0;36mdrop\u001b[1;34m(self, labels, axis, index, columns, level, inplace, errors)\u001b[0m\n\u001b[0;32m   3905\u001b[0m         \u001b[1;32melse\u001b[0m\u001b[1;33m:\u001b[0m\u001b[1;33m\u001b[0m\u001b[1;33m\u001b[0m\u001b[0m\n\u001b[0;32m   3906\u001b[0m             raise ValueError(\n\u001b[1;32m-> 3907\u001b[1;33m                 \u001b[1;34m\"Need to specify at least one of 'labels', \"\u001b[0m \u001b[1;34m\"'index' or 'columns'\"\u001b[0m\u001b[1;33m\u001b[0m\u001b[1;33m\u001b[0m\u001b[0m\n\u001b[0m\u001b[0;32m   3908\u001b[0m             )\n\u001b[0;32m   3909\u001b[0m \u001b[1;33m\u001b[0m\u001b[0m\n",
      "\u001b[1;31mValueError\u001b[0m: Need to specify at least one of 'labels', 'index' or 'columns'"
     ]
    }
   ],
   "source": [
    "planilha = planilha.drop(axis=1)\n",
    "print(planilha.head())"
   ]
  },
  {
   "cell_type": "code",
   "execution_count": 34,
   "metadata": {},
   "outputs": [
    {
     "ename": "KeyError",
     "evalue": "\"['codigo_ocorrencia'] not found in axis\"",
     "output_type": "error",
     "traceback": [
      "\u001b[1;31m---------------------------------------------------------------------------\u001b[0m",
      "\u001b[1;31mKeyError\u001b[0m                                  Traceback (most recent call last)",
      "\u001b[1;32m<ipython-input-34-575470e4ab02>\u001b[0m in \u001b[0;36m<module>\u001b[1;34m\u001b[0m\n\u001b[1;32m----> 1\u001b[1;33m \u001b[0mplanilha\u001b[0m \u001b[1;33m=\u001b[0m \u001b[0mplanilha\u001b[0m\u001b[1;33m.\u001b[0m\u001b[0mdrop\u001b[0m\u001b[1;33m(\u001b[0m\u001b[1;34m'codigo_ocorrencia'\u001b[0m\u001b[1;33m,\u001b[0m\u001b[0maxis\u001b[0m\u001b[1;33m=\u001b[0m\u001b[1;36m1\u001b[0m\u001b[1;33m)\u001b[0m\u001b[1;33m\u001b[0m\u001b[1;33m\u001b[0m\u001b[0m\n\u001b[0m\u001b[0;32m      2\u001b[0m \u001b[0mprint\u001b[0m\u001b[1;33m(\u001b[0m\u001b[0mplanilha\u001b[0m\u001b[1;33m.\u001b[0m\u001b[0mhead\u001b[0m\u001b[1;33m(\u001b[0m\u001b[1;33m)\u001b[0m\u001b[1;33m)\u001b[0m\u001b[1;33m\u001b[0m\u001b[1;33m\u001b[0m\u001b[0m\n",
      "\u001b[1;32m~\\Anaconda3\\lib\\site-packages\\pandas\\core\\frame.py\u001b[0m in \u001b[0;36mdrop\u001b[1;34m(self, labels, axis, index, columns, level, inplace, errors)\u001b[0m\n\u001b[0;32m   4100\u001b[0m             \u001b[0mlevel\u001b[0m\u001b[1;33m=\u001b[0m\u001b[0mlevel\u001b[0m\u001b[1;33m,\u001b[0m\u001b[1;33m\u001b[0m\u001b[1;33m\u001b[0m\u001b[0m\n\u001b[0;32m   4101\u001b[0m             \u001b[0minplace\u001b[0m\u001b[1;33m=\u001b[0m\u001b[0minplace\u001b[0m\u001b[1;33m,\u001b[0m\u001b[1;33m\u001b[0m\u001b[1;33m\u001b[0m\u001b[0m\n\u001b[1;32m-> 4102\u001b[1;33m             \u001b[0merrors\u001b[0m\u001b[1;33m=\u001b[0m\u001b[0merrors\u001b[0m\u001b[1;33m,\u001b[0m\u001b[1;33m\u001b[0m\u001b[1;33m\u001b[0m\u001b[0m\n\u001b[0m\u001b[0;32m   4103\u001b[0m         )\n\u001b[0;32m   4104\u001b[0m \u001b[1;33m\u001b[0m\u001b[0m\n",
      "\u001b[1;32m~\\Anaconda3\\lib\\site-packages\\pandas\\core\\generic.py\u001b[0m in \u001b[0;36mdrop\u001b[1;34m(self, labels, axis, index, columns, level, inplace, errors)\u001b[0m\n\u001b[0;32m   3912\u001b[0m         \u001b[1;32mfor\u001b[0m \u001b[0maxis\u001b[0m\u001b[1;33m,\u001b[0m \u001b[0mlabels\u001b[0m \u001b[1;32min\u001b[0m \u001b[0maxes\u001b[0m\u001b[1;33m.\u001b[0m\u001b[0mitems\u001b[0m\u001b[1;33m(\u001b[0m\u001b[1;33m)\u001b[0m\u001b[1;33m:\u001b[0m\u001b[1;33m\u001b[0m\u001b[1;33m\u001b[0m\u001b[0m\n\u001b[0;32m   3913\u001b[0m             \u001b[1;32mif\u001b[0m \u001b[0mlabels\u001b[0m \u001b[1;32mis\u001b[0m \u001b[1;32mnot\u001b[0m \u001b[1;32mNone\u001b[0m\u001b[1;33m:\u001b[0m\u001b[1;33m\u001b[0m\u001b[1;33m\u001b[0m\u001b[0m\n\u001b[1;32m-> 3914\u001b[1;33m                 \u001b[0mobj\u001b[0m \u001b[1;33m=\u001b[0m \u001b[0mobj\u001b[0m\u001b[1;33m.\u001b[0m\u001b[0m_drop_axis\u001b[0m\u001b[1;33m(\u001b[0m\u001b[0mlabels\u001b[0m\u001b[1;33m,\u001b[0m \u001b[0maxis\u001b[0m\u001b[1;33m,\u001b[0m \u001b[0mlevel\u001b[0m\u001b[1;33m=\u001b[0m\u001b[0mlevel\u001b[0m\u001b[1;33m,\u001b[0m \u001b[0merrors\u001b[0m\u001b[1;33m=\u001b[0m\u001b[0merrors\u001b[0m\u001b[1;33m)\u001b[0m\u001b[1;33m\u001b[0m\u001b[1;33m\u001b[0m\u001b[0m\n\u001b[0m\u001b[0;32m   3915\u001b[0m \u001b[1;33m\u001b[0m\u001b[0m\n\u001b[0;32m   3916\u001b[0m         \u001b[1;32mif\u001b[0m \u001b[0minplace\u001b[0m\u001b[1;33m:\u001b[0m\u001b[1;33m\u001b[0m\u001b[1;33m\u001b[0m\u001b[0m\n",
      "\u001b[1;32m~\\Anaconda3\\lib\\site-packages\\pandas\\core\\generic.py\u001b[0m in \u001b[0;36m_drop_axis\u001b[1;34m(self, labels, axis, level, errors)\u001b[0m\n\u001b[0;32m   3944\u001b[0m                 \u001b[0mnew_axis\u001b[0m \u001b[1;33m=\u001b[0m \u001b[0maxis\u001b[0m\u001b[1;33m.\u001b[0m\u001b[0mdrop\u001b[0m\u001b[1;33m(\u001b[0m\u001b[0mlabels\u001b[0m\u001b[1;33m,\u001b[0m \u001b[0mlevel\u001b[0m\u001b[1;33m=\u001b[0m\u001b[0mlevel\u001b[0m\u001b[1;33m,\u001b[0m \u001b[0merrors\u001b[0m\u001b[1;33m=\u001b[0m\u001b[0merrors\u001b[0m\u001b[1;33m)\u001b[0m\u001b[1;33m\u001b[0m\u001b[1;33m\u001b[0m\u001b[0m\n\u001b[0;32m   3945\u001b[0m             \u001b[1;32melse\u001b[0m\u001b[1;33m:\u001b[0m\u001b[1;33m\u001b[0m\u001b[1;33m\u001b[0m\u001b[0m\n\u001b[1;32m-> 3946\u001b[1;33m                 \u001b[0mnew_axis\u001b[0m \u001b[1;33m=\u001b[0m \u001b[0maxis\u001b[0m\u001b[1;33m.\u001b[0m\u001b[0mdrop\u001b[0m\u001b[1;33m(\u001b[0m\u001b[0mlabels\u001b[0m\u001b[1;33m,\u001b[0m \u001b[0merrors\u001b[0m\u001b[1;33m=\u001b[0m\u001b[0merrors\u001b[0m\u001b[1;33m)\u001b[0m\u001b[1;33m\u001b[0m\u001b[1;33m\u001b[0m\u001b[0m\n\u001b[0m\u001b[0;32m   3947\u001b[0m             \u001b[0mresult\u001b[0m \u001b[1;33m=\u001b[0m \u001b[0mself\u001b[0m\u001b[1;33m.\u001b[0m\u001b[0mreindex\u001b[0m\u001b[1;33m(\u001b[0m\u001b[1;33m**\u001b[0m\u001b[1;33m{\u001b[0m\u001b[0maxis_name\u001b[0m\u001b[1;33m:\u001b[0m \u001b[0mnew_axis\u001b[0m\u001b[1;33m}\u001b[0m\u001b[1;33m)\u001b[0m\u001b[1;33m\u001b[0m\u001b[1;33m\u001b[0m\u001b[0m\n\u001b[0;32m   3948\u001b[0m \u001b[1;33m\u001b[0m\u001b[0m\n",
      "\u001b[1;32m~\\Anaconda3\\lib\\site-packages\\pandas\\core\\indexes\\base.py\u001b[0m in \u001b[0;36mdrop\u001b[1;34m(self, labels, errors)\u001b[0m\n\u001b[0;32m   5338\u001b[0m         \u001b[1;32mif\u001b[0m \u001b[0mmask\u001b[0m\u001b[1;33m.\u001b[0m\u001b[0many\u001b[0m\u001b[1;33m(\u001b[0m\u001b[1;33m)\u001b[0m\u001b[1;33m:\u001b[0m\u001b[1;33m\u001b[0m\u001b[1;33m\u001b[0m\u001b[0m\n\u001b[0;32m   5339\u001b[0m             \u001b[1;32mif\u001b[0m \u001b[0merrors\u001b[0m \u001b[1;33m!=\u001b[0m \u001b[1;34m\"ignore\"\u001b[0m\u001b[1;33m:\u001b[0m\u001b[1;33m\u001b[0m\u001b[1;33m\u001b[0m\u001b[0m\n\u001b[1;32m-> 5340\u001b[1;33m                 \u001b[1;32mraise\u001b[0m \u001b[0mKeyError\u001b[0m\u001b[1;33m(\u001b[0m\u001b[1;34m\"{} not found in axis\"\u001b[0m\u001b[1;33m.\u001b[0m\u001b[0mformat\u001b[0m\u001b[1;33m(\u001b[0m\u001b[0mlabels\u001b[0m\u001b[1;33m[\u001b[0m\u001b[0mmask\u001b[0m\u001b[1;33m]\u001b[0m\u001b[1;33m)\u001b[0m\u001b[1;33m)\u001b[0m\u001b[1;33m\u001b[0m\u001b[1;33m\u001b[0m\u001b[0m\n\u001b[0m\u001b[0;32m   5341\u001b[0m             \u001b[0mindexer\u001b[0m \u001b[1;33m=\u001b[0m \u001b[0mindexer\u001b[0m\u001b[1;33m[\u001b[0m\u001b[1;33m~\u001b[0m\u001b[0mmask\u001b[0m\u001b[1;33m]\u001b[0m\u001b[1;33m\u001b[0m\u001b[1;33m\u001b[0m\u001b[0m\n\u001b[0;32m   5342\u001b[0m         \u001b[1;32mreturn\u001b[0m \u001b[0mself\u001b[0m\u001b[1;33m.\u001b[0m\u001b[0mdelete\u001b[0m\u001b[1;33m(\u001b[0m\u001b[0mindexer\u001b[0m\u001b[1;33m)\u001b[0m\u001b[1;33m\u001b[0m\u001b[1;33m\u001b[0m\u001b[0m\n",
      "\u001b[1;31mKeyError\u001b[0m: \"['codigo_ocorrencia'] not found in axis\""
     ]
    }
   ],
   "source": [
    "planilha = planilha.drop('codigo_ocorrencia',axis=1)\n",
    "print(planilha.head())"
   ]
  },
  {
   "cell_type": "code",
   "execution_count": 35,
   "metadata": {},
   "outputs": [
    {
     "data": {
      "text/html": [
       "<div>\n",
       "<style scoped>\n",
       "    .dataframe tbody tr th:only-of-type {\n",
       "        vertical-align: middle;\n",
       "    }\n",
       "\n",
       "    .dataframe tbody tr th {\n",
       "        vertical-align: top;\n",
       "    }\n",
       "\n",
       "    .dataframe thead th {\n",
       "        text-align: right;\n",
       "    }\n",
       "</style>\n",
       "<table border=\"1\" class=\"dataframe\">\n",
       "  <thead>\n",
       "    <tr style=\"text-align: right;\">\n",
       "      <th></th>\n",
       "      <th>codigo_ocorrencia~\"ocorrencia_classificacao\"~\"ocorrencia_tipo\"~\"ocorrencia_tipo_categoria\"~\"ocorrencia_tipo_icao\"~\"ocorrencia_latitude\"~\"ocorrencia_longitude\"~\"ocorrencia_cidade\"~\"ocorrencia_uf\"~\"ocorrencia_pais\"~\"ocorrencia_aerodromo\"~\"ocorrencia_dia\"~\"ocorrencia_horario\"~\"investigacao_aeronave_liberada\"~\"investigacao_status\"~\"divulgacao_relatorio_numero\"~\"divulgacao_relatorio_publicado\"~\"divulgacao_dia_publicacao\"~\"total_recomendacoes\"~\"total_aeronaves_envolvidas\"~\"ocorrencia_saida_pista\"~\"ocorrencia_dia_extracao\"</th>\n",
       "    </tr>\n",
       "  </thead>\n",
       "  <tbody>\n",
       "    <tr>\n",
       "      <td>0</td>\n",
       "      <td>201305055424986~\"ACIDENTE\"~\"FALHA DO MOTOR EM ...</td>\n",
       "    </tr>\n",
       "    <tr>\n",
       "      <td>1</td>\n",
       "      <td>201311259977425~\"INCIDENTE GRAVE\"~\"POUSO SEM T...</td>\n",
       "    </tr>\n",
       "    <tr>\n",
       "      <td>2</td>\n",
       "      <td>201605160250139~\"INCIDENTE GRAVE\"~\"COLISÃO COM...</td>\n",
       "    </tr>\n",
       "    <tr>\n",
       "      <td>3</td>\n",
       "      <td>201805021421302~\"INCIDENTE\"~\"AERÓDROMO\"~\"AERÓD...</td>\n",
       "    </tr>\n",
       "    <tr>\n",
       "      <td>4</td>\n",
       "      <td>201103187273112~\"INCIDENTE\"~\"OUTROS\"~\"OUTROS\"~...</td>\n",
       "    </tr>\n",
       "  </tbody>\n",
       "</table>\n",
       "</div>"
      ],
      "text/plain": [
       "  codigo_ocorrencia~\"ocorrencia_classificacao\"~\"ocorrencia_tipo\"~\"ocorrencia_tipo_categoria\"~\"ocorrencia_tipo_icao\"~\"ocorrencia_latitude\"~\"ocorrencia_longitude\"~\"ocorrencia_cidade\"~\"ocorrencia_uf\"~\"ocorrencia_pais\"~\"ocorrencia_aerodromo\"~\"ocorrencia_dia\"~\"ocorrencia_horario\"~\"investigacao_aeronave_liberada\"~\"investigacao_status\"~\"divulgacao_relatorio_numero\"~\"divulgacao_relatorio_publicado\"~\"divulgacao_dia_publicacao\"~\"total_recomendacoes\"~\"total_aeronaves_envolvidas\"~\"ocorrencia_saida_pista\"~\"ocorrencia_dia_extracao\"\n",
       "0  201305055424986~\"ACIDENTE\"~\"FALHA DO MOTOR EM ...                                                                                                                                                                                                                                                                                                                                                                                                                                                                                       \n",
       "1  201311259977425~\"INCIDENTE GRAVE\"~\"POUSO SEM T...                                                                                                                                                                                                                                                                                                                                                                                                                                                                                       \n",
       "2  201605160250139~\"INCIDENTE GRAVE\"~\"COLISÃO COM...                                                                                                                                                                                                                                                                                                                                                                                                                                                                                       \n",
       "3  201805021421302~\"INCIDENTE\"~\"AERÓDROMO\"~\"AERÓD...                                                                                                                                                                                                                                                                                                                                                                                                                                                                                       \n",
       "4  201103187273112~\"INCIDENTE\"~\"OUTROS\"~\"OUTROS\"~...                                                                                                                                                                                                                                                                                                                                                                                                                                                                                       "
      ]
     },
     "execution_count": 35,
     "metadata": {},
     "output_type": "execute_result"
    }
   ],
   "source": [
    "planilha.head()"
   ]
  },
  {
   "cell_type": "code",
   "execution_count": 5,
   "metadata": {},
   "outputs": [
    {
     "ename": "SyntaxError",
     "evalue": "EOL while scanning string literal (<ipython-input-5-a3c9e496d400>, line 1)",
     "output_type": "error",
     "traceback": [
      "\u001b[1;36m  File \u001b[1;32m\"<ipython-input-5-a3c9e496d400>\"\u001b[1;36m, line \u001b[1;32m1\u001b[0m\n\u001b[1;33m    nova = pd.read_csv('ADS_resultado_2aIntegrada_2019_2.csv', sep='|', encoding='latin-1)\u001b[0m\n\u001b[1;37m                                                                                          ^\u001b[0m\n\u001b[1;31mSyntaxError\u001b[0m\u001b[1;31m:\u001b[0m EOL while scanning string literal\n"
     ]
    }
   ],
   "source": [
    "nova = pd.read_csv('ADS_resultado_2aIntegrada_2019_2.csv', sep='|', encoding='latin-1)"
   ]
  },
  {
   "cell_type": "code",
   "execution_count": 2,
   "metadata": {},
   "outputs": [],
   "source": [
    "import pandas as pd\n"
   ]
  },
  {
   "cell_type": "code",
   "execution_count": 6,
   "metadata": {
    "scrolled": true
   },
   "outputs": [
    {
     "ename": "SyntaxError",
     "evalue": "EOL while scanning string literal (<ipython-input-6-bd8887bfd986>, line 1)",
     "output_type": "error",
     "traceback": [
      "\u001b[1;36m  File \u001b[1;32m\"<ipython-input-6-bd8887bfd986>\"\u001b[1;36m, line \u001b[1;32m1\u001b[0m\n\u001b[1;33m    nova = pd.read_csv('ADS_resultado_2aIntegrada_2019_2.xlsx', sep='|', encoding='latin-1)\u001b[0m\n\u001b[1;37m                                                                                           ^\u001b[0m\n\u001b[1;31mSyntaxError\u001b[0m\u001b[1;31m:\u001b[0m EOL while scanning string literal\n"
     ]
    }
   ],
   "source": [
    "nova = pd.read_csv('ADS_resultado_2aIntegrada_2019_2.xlsx', sep='|', encoding='latin-1)"
   ]
  },
  {
   "cell_type": "code",
   "execution_count": 7,
   "metadata": {},
   "outputs": [],
   "source": [
    "new =  pd.read_excel('python_jupyter.xlsx')"
   ]
  },
  {
   "cell_type": "code",
   "execution_count": 8,
   "metadata": {},
   "outputs": [
    {
     "data": {
      "text/html": [
       "<div>\n",
       "<style scoped>\n",
       "    .dataframe tbody tr th:only-of-type {\n",
       "        vertical-align: middle;\n",
       "    }\n",
       "\n",
       "    .dataframe tbody tr th {\n",
       "        vertical-align: top;\n",
       "    }\n",
       "\n",
       "    .dataframe thead th {\n",
       "        text-align: right;\n",
       "    }\n",
       "</style>\n",
       "<table border=\"1\" class=\"dataframe\">\n",
       "  <thead>\n",
       "    <tr style=\"text-align: right;\">\n",
       "      <th></th>\n",
       "      <th>\"codigo_ocorrencia</th>\n",
       "      <th>\"\"ocorrencia_classificacao\"\"</th>\n",
       "      <th>\"\"ocorrencia_tipo\"\"</th>\n",
       "      <th>\"\"ocorrencia_tipo_categoria\"\"</th>\n",
       "      <th>\"\"ocorrencia_tipo_icao\"\"</th>\n",
       "      <th>\"\"ocorrencia_latitude\"\"</th>\n",
       "      <th>\"\"ocorrencia_longitude\"\"</th>\n",
       "      <th>\"\"ocorrencia_cidade\"\"</th>\n",
       "      <th>\"\"ocorrencia_uf\"\"</th>\n",
       "      <th>\"\"ocorrencia_pais\"\"</th>\n",
       "      <th>...</th>\n",
       "      <th>\"\"investigacao_status\"\"</th>\n",
       "      <th>\"\"divulgacao_relatorio_numero\"\"</th>\n",
       "      <th>\"\"divulgacao_relatorio_publicado\"\"</th>\n",
       "      <th>\"\"divulgacao_dia_publicacao\"\"</th>\n",
       "      <th>\"\"total_recomendacoes\"\"</th>\n",
       "      <th>\"\"total_aeronaves_envolvidas\"\"</th>\n",
       "      <th>\"\"ocorrencia_saida_pista\"\"</th>\n",
       "      <th>\"\"ocorrencia_dia_extracao\"\"\"</th>\n",
       "      <th>Unnamed: 22</th>\n",
       "      <th>Unnamed: 23</th>\n",
       "    </tr>\n",
       "  </thead>\n",
       "  <tbody>\n",
       "    <tr>\n",
       "      <td>0</td>\n",
       "      <td>\"201305055424986</td>\n",
       "      <td>\"\"ACIDENTE\"\"</td>\n",
       "      <td>\"\"FALHA DO MOTOR EM VOO\"\"</td>\n",
       "      <td>\"\"FALHA OU MAU FUNCIONAMENTO DO MOTOR\"\"</td>\n",
       "      <td>\"\"SCF-PP\"\"</td>\n",
       "      <td>\"\"-9.9085\"\"</td>\n",
       "      <td>\"\"-63.0333\"\"</td>\n",
       "      <td>\"\"ARIQUEMES\"\"</td>\n",
       "      <td>\"\"RO\"\"</td>\n",
       "      <td>\"\"BRASIL\"\"</td>\n",
       "      <td>...</td>\n",
       "      <td>\"\"FINALIZADA\"\"</td>\n",
       "      <td>\"\"***\"\"</td>\n",
       "      <td>\"\"NÃƒO\"\"</td>\n",
       "      <td>\"\"NULL\"\"</td>\n",
       "      <td>\"\"0\"\"</td>\n",
       "      <td>\"\"1\"\"</td>\n",
       "      <td>\"\"NÃƒO\"\"</td>\n",
       "      <td>\"\"2019-05-31\"\"\"</td>\n",
       "      <td>NaN</td>\n",
       "      <td>NaN</td>\n",
       "    </tr>\n",
       "    <tr>\n",
       "      <td>1</td>\n",
       "      <td>\"201311259977425</td>\n",
       "      <td>\"\"INCIDENTE GRAVE\"\"</td>\n",
       "      <td>\"\"POUSO SEM TREM\"\"</td>\n",
       "      <td>\"\"CONTATO ANORMAL COM A PISTA\"\"</td>\n",
       "      <td>\"\"ARC\"\"</td>\n",
       "      <td>\"\"-11.4956\"\"</td>\n",
       "      <td>\"\"-61.4508\"\"</td>\n",
       "      <td>\"\"CACOAL\"\"</td>\n",
       "      <td>\"\"RO\"\"</td>\n",
       "      <td>\"\"BRASIL\"\"</td>\n",
       "      <td>...</td>\n",
       "      <td>\"\"FINALIZADA\"\"</td>\n",
       "      <td>\"\"IG-209/CENIPA/2013\"\"</td>\n",
       "      <td>\"\"SIM\"\"</td>\n",
       "      <td>\"\"2014-04-07\"\"</td>\n",
       "      <td>\"\"0\"\"</td>\n",
       "      <td>\"\"1\"\"</td>\n",
       "      <td>\"\"NÃƒO\"\"</td>\n",
       "      <td>\"\"2019-05-31\"\"\"</td>\n",
       "      <td>NaN</td>\n",
       "      <td>NaN</td>\n",
       "    </tr>\n",
       "    <tr>\n",
       "      <td>2</td>\n",
       "      <td>\"201605160250139</td>\n",
       "      <td>\"\"INCIDENTE GRAVE\"\"</td>\n",
       "      <td>\"\"COLISÃƒO COM OBSTÃCULO DURANTE A DECOLAGEM ...</td>\n",
       "      <td>\"\"COLISÃƒO COM OBSTÃCULO DURANTE A DECOLAGEM ...</td>\n",
       "      <td>\"\"CTOL\"\"</td>\n",
       "      <td>\"\"-11.2644\"\"</td>\n",
       "      <td>\"\"-61.2589\"\"</td>\n",
       "      <td>\"\"CACOAL\"\"</td>\n",
       "      <td>\"\"RO\"\"</td>\n",
       "      <td>\"\"BRASIL\"\"</td>\n",
       "      <td>...</td>\n",
       "      <td>\"\"FINALIZADA\"\"</td>\n",
       "      <td>\"\"IG-084/CENIPA/2016\"\"</td>\n",
       "      <td>\"\"SIM\"\"</td>\n",
       "      <td>\"\"2019-03-11\"\"</td>\n",
       "      <td>\"\"7\"\"</td>\n",
       "      <td>\"\"1\"\"</td>\n",
       "      <td>\"\"NÃƒO\"\"</td>\n",
       "      <td>\"\"2019-05-31\"\"\"</td>\n",
       "      <td>NaN</td>\n",
       "      <td>NaN</td>\n",
       "    </tr>\n",
       "    <tr>\n",
       "      <td>3</td>\n",
       "      <td>\"201805021421302</td>\n",
       "      <td>\"\"INCIDENTE\"\"</td>\n",
       "      <td>\"\"AERÃ“DROMO\"\"</td>\n",
       "      <td>\"\"AERÃ“DROMO\"\"</td>\n",
       "      <td>\"\"ADRM\"\"</td>\n",
       "      <td>\"\"-11.4956\"\"</td>\n",
       "      <td>\"\"-61.4508\"\"</td>\n",
       "      <td>\"\"CACOAL\"\"</td>\n",
       "      <td>\"\"RO\"\"</td>\n",
       "      <td>\"\"BRASIL\"\"</td>\n",
       "      <td>...</td>\n",
       "      <td>\"\"FINALIZADA\"\"</td>\n",
       "      <td>\"\"***\"\"</td>\n",
       "      <td>\"\"NÃƒO\"\"</td>\n",
       "      <td>\"\"NULL\"\"</td>\n",
       "      <td>\"\"0\"\"</td>\n",
       "      <td>\"\"1\"\"</td>\n",
       "      <td>\"\"NÃƒO\"\"</td>\n",
       "      <td>\"\"2019-05-31\"\"\"</td>\n",
       "      <td>NaN</td>\n",
       "      <td>NaN</td>\n",
       "    </tr>\n",
       "    <tr>\n",
       "      <td>4</td>\n",
       "      <td>\"201103187273112</td>\n",
       "      <td>\"\"INCIDENTE\"\"</td>\n",
       "      <td>\"\"OUTROS\"\"</td>\n",
       "      <td>\"\"OUTROS\"\"</td>\n",
       "      <td>\"\"OTHR\"\"</td>\n",
       "      <td>\"\"-13.1950\"\"</td>\n",
       "      <td>\"\"-60.8184\"\"</td>\n",
       "      <td>\"\"CEREJEIRAS\"\"</td>\n",
       "      <td>\"\"RO\"\"</td>\n",
       "      <td>\"\"BRASIL\"\"</td>\n",
       "      <td>...</td>\n",
       "      <td>\"\"FINALIZADA\"\"</td>\n",
       "      <td>\"\"***\"\"</td>\n",
       "      <td>\"\"NÃƒO\"\"</td>\n",
       "      <td>\"\"NULL\"\"</td>\n",
       "      <td>\"\"0\"\"</td>\n",
       "      <td>\"\"1\"\"</td>\n",
       "      <td>\"\"NÃƒO\"\"</td>\n",
       "      <td>\"\"2019-05-31\"\"\"</td>\n",
       "      <td>NaN</td>\n",
       "      <td>NaN</td>\n",
       "    </tr>\n",
       "  </tbody>\n",
       "</table>\n",
       "<p>5 rows × 24 columns</p>\n",
       "</div>"
      ],
      "text/plain": [
       "  \"codigo_ocorrencia \"\"ocorrencia_classificacao\"\"  \\\n",
       "0   \"201305055424986                 \"\"ACIDENTE\"\"   \n",
       "1   \"201311259977425          \"\"INCIDENTE GRAVE\"\"   \n",
       "2   \"201605160250139          \"\"INCIDENTE GRAVE\"\"   \n",
       "3   \"201805021421302                \"\"INCIDENTE\"\"   \n",
       "4   \"201103187273112                \"\"INCIDENTE\"\"   \n",
       "\n",
       "                                 \"\"ocorrencia_tipo\"\"  \\\n",
       "0                          \"\"FALHA DO MOTOR EM VOO\"\"   \n",
       "1                                 \"\"POUSO SEM TREM\"\"   \n",
       "2  \"\"COLISÃƒO COM OBSTÃCULO DURANTE A DECOLAGEM ...   \n",
       "3                                     \"\"AERÃ“DROMO\"\"   \n",
       "4                                         \"\"OUTROS\"\"   \n",
       "\n",
       "                       \"\"ocorrencia_tipo_categoria\"\" \"\"ocorrencia_tipo_icao\"\"  \\\n",
       "0            \"\"FALHA OU MAU FUNCIONAMENTO DO MOTOR\"\"               \"\"SCF-PP\"\"   \n",
       "1                    \"\"CONTATO ANORMAL COM A PISTA\"\"                  \"\"ARC\"\"   \n",
       "2  \"\"COLISÃƒO COM OBSTÃCULO DURANTE A DECOLAGEM ...                 \"\"CTOL\"\"   \n",
       "3                                     \"\"AERÃ“DROMO\"\"                 \"\"ADRM\"\"   \n",
       "4                                         \"\"OUTROS\"\"                 \"\"OTHR\"\"   \n",
       "\n",
       "  \"\"ocorrencia_latitude\"\" \"\"ocorrencia_longitude\"\" \"\"ocorrencia_cidade\"\"  \\\n",
       "0             \"\"-9.9085\"\"             \"\"-63.0333\"\"         \"\"ARIQUEMES\"\"   \n",
       "1            \"\"-11.4956\"\"             \"\"-61.4508\"\"            \"\"CACOAL\"\"   \n",
       "2            \"\"-11.2644\"\"             \"\"-61.2589\"\"            \"\"CACOAL\"\"   \n",
       "3            \"\"-11.4956\"\"             \"\"-61.4508\"\"            \"\"CACOAL\"\"   \n",
       "4            \"\"-13.1950\"\"             \"\"-60.8184\"\"        \"\"CEREJEIRAS\"\"   \n",
       "\n",
       "  \"\"ocorrencia_uf\"\" \"\"ocorrencia_pais\"\"  ... \"\"investigacao_status\"\"  \\\n",
       "0            \"\"RO\"\"          \"\"BRASIL\"\"  ...          \"\"FINALIZADA\"\"   \n",
       "1            \"\"RO\"\"          \"\"BRASIL\"\"  ...          \"\"FINALIZADA\"\"   \n",
       "2            \"\"RO\"\"          \"\"BRASIL\"\"  ...          \"\"FINALIZADA\"\"   \n",
       "3            \"\"RO\"\"          \"\"BRASIL\"\"  ...          \"\"FINALIZADA\"\"   \n",
       "4            \"\"RO\"\"          \"\"BRASIL\"\"  ...          \"\"FINALIZADA\"\"   \n",
       "\n",
       "  \"\"divulgacao_relatorio_numero\"\" \"\"divulgacao_relatorio_publicado\"\"  \\\n",
       "0                         \"\"***\"\"                           \"\"NÃƒO\"\"   \n",
       "1          \"\"IG-209/CENIPA/2013\"\"                            \"\"SIM\"\"   \n",
       "2          \"\"IG-084/CENIPA/2016\"\"                            \"\"SIM\"\"   \n",
       "3                         \"\"***\"\"                           \"\"NÃƒO\"\"   \n",
       "4                         \"\"***\"\"                           \"\"NÃƒO\"\"   \n",
       "\n",
       "  \"\"divulgacao_dia_publicacao\"\" \"\"total_recomendacoes\"\"  \\\n",
       "0                      \"\"NULL\"\"                   \"\"0\"\"   \n",
       "1                \"\"2014-04-07\"\"                   \"\"0\"\"   \n",
       "2                \"\"2019-03-11\"\"                   \"\"7\"\"   \n",
       "3                      \"\"NULL\"\"                   \"\"0\"\"   \n",
       "4                      \"\"NULL\"\"                   \"\"0\"\"   \n",
       "\n",
       "  \"\"total_aeronaves_envolvidas\"\" \"\"ocorrencia_saida_pista\"\"  \\\n",
       "0                          \"\"1\"\"                   \"\"NÃƒO\"\"   \n",
       "1                          \"\"1\"\"                   \"\"NÃƒO\"\"   \n",
       "2                          \"\"1\"\"                   \"\"NÃƒO\"\"   \n",
       "3                          \"\"1\"\"                   \"\"NÃƒO\"\"   \n",
       "4                          \"\"1\"\"                   \"\"NÃƒO\"\"   \n",
       "\n",
       "  \"\"ocorrencia_dia_extracao\"\"\" Unnamed: 22 Unnamed: 23  \n",
       "0              \"\"2019-05-31\"\"\"         NaN         NaN  \n",
       "1              \"\"2019-05-31\"\"\"         NaN         NaN  \n",
       "2              \"\"2019-05-31\"\"\"         NaN         NaN  \n",
       "3              \"\"2019-05-31\"\"\"         NaN         NaN  \n",
       "4              \"\"2019-05-31\"\"\"         NaN         NaN  \n",
       "\n",
       "[5 rows x 24 columns]"
      ]
     },
     "execution_count": 8,
     "metadata": {},
     "output_type": "execute_result"
    }
   ],
   "source": [
    "new.head()"
   ]
  },
  {
   "cell_type": "code",
   "execution_count": 9,
   "metadata": {},
   "outputs": [
    {
     "ename": "TypeError",
     "evalue": "'Index' object is not callable",
     "output_type": "error",
     "traceback": [
      "\u001b[1;31m---------------------------------------------------------------------------\u001b[0m",
      "\u001b[1;31mTypeError\u001b[0m                                 Traceback (most recent call last)",
      "\u001b[1;32m<ipython-input-9-751c5c7028ec>\u001b[0m in \u001b[0;36m<module>\u001b[1;34m\u001b[0m\n\u001b[1;32m----> 1\u001b[1;33m \u001b[0mnew\u001b[0m\u001b[1;33m.\u001b[0m\u001b[0mcolumns\u001b[0m\u001b[1;33m(\u001b[0m\u001b[1;33m)\u001b[0m\u001b[1;33m\u001b[0m\u001b[1;33m\u001b[0m\u001b[0m\n\u001b[0m",
      "\u001b[1;31mTypeError\u001b[0m: 'Index' object is not callable"
     ]
    }
   ],
   "source": [
    "new.columns()"
   ]
  },
  {
   "cell_type": "code",
   "execution_count": 10,
   "metadata": {},
   "outputs": [
    {
     "data": {
      "text/plain": [
       "Index(['\"codigo_ocorrencia', '\"\"ocorrencia_classificacao\"\"',\n",
       "       '\"\"ocorrencia_tipo\"\"', '\"\"ocorrencia_tipo_categoria\"\"',\n",
       "       '\"\"ocorrencia_tipo_icao\"\"', '\"\"ocorrencia_latitude\"\"',\n",
       "       '\"\"ocorrencia_longitude\"\"', '\"\"ocorrencia_cidade\"\"',\n",
       "       '\"\"ocorrencia_uf\"\"', '\"\"ocorrencia_pais\"\"', '\"\"ocorrencia_aerodromo\"\"',\n",
       "       '\"\"ocorrencia_dia\"\"', '\"\"ocorrencia_horario\"\"',\n",
       "       '\"\"investigacao_aeronave_liberada\"\"', '\"\"investigacao_status\"\"',\n",
       "       '\"\"divulgacao_relatorio_numero\"\"', '\"\"divulgacao_relatorio_publicado\"\"',\n",
       "       '\"\"divulgacao_dia_publicacao\"\"', '\"\"total_recomendacoes\"\"',\n",
       "       '\"\"total_aeronaves_envolvidas\"\"', '\"\"ocorrencia_saida_pista\"\"',\n",
       "       '\"\"ocorrencia_dia_extracao\"\"\"', 'Unnamed: 22', 'Unnamed: 23'],\n",
       "      dtype='object')"
      ]
     },
     "execution_count": 10,
     "metadata": {},
     "output_type": "execute_result"
    }
   ],
   "source": [
    "new.columns"
   ]
  },
  {
   "cell_type": "code",
   "execution_count": 11,
   "metadata": {},
   "outputs": [
    {
     "data": {
      "text/plain": [
       "<bound method NDFrame.describe of      \"codigo_ocorrencia \"\"ocorrencia_classificacao\"\"  \\\n",
       "0      \"201305055424986                 \"\"ACIDENTE\"\"   \n",
       "1      \"201311259977425          \"\"INCIDENTE GRAVE\"\"   \n",
       "2      \"201605160250139          \"\"INCIDENTE GRAVE\"\"   \n",
       "3      \"201805021421302                \"\"INCIDENTE\"\"   \n",
       "4      \"201103187273112                \"\"INCIDENTE\"\"   \n",
       "...                 ...                          ...   \n",
       "4623   \"201107163514591                \"\"INCIDENTE\"\"   \n",
       "4624   \"201101107541931                \"\"INCIDENTE\"\"   \n",
       "4625   \"201502247981603          \"\"INCIDENTE GRAVE\"\"   \n",
       "4626   \"200910311058203                \"\"INCIDENTE\"\"   \n",
       "4627   \"201309012098180                 \"\"ACIDENTE\"\"   \n",
       "\n",
       "                                    \"\"ocorrencia_tipo\"\"  \\\n",
       "0                             \"\"FALHA DO MOTOR EM VOO\"\"   \n",
       "1                                    \"\"POUSO SEM TREM\"\"   \n",
       "2     \"\"COLISÃƒO COM OBSTÃCULO DURANTE A DECOLAGEM ...   \n",
       "3                                        \"\"AERÃ“DROMO\"\"   \n",
       "4                                            \"\"OUTROS\"\"   \n",
       "...                                                 ...   \n",
       "4623                                \"\"TRÃFEGO AÃ‰REO\"\"   \n",
       "4624    \"\"CAUSADO POR FENÃ”MENO METEOROLÃ“GICO EM VOO\"\"   \n",
       "4625               \"\"COM PARA-BRISAS / JANELA / PORTA\"\"   \n",
       "4626  \"\"FALHA OU MAU FUNCIONAMENTO DE SISTEMA / COMP...   \n",
       "4627    \"\"CAUSADO POR FENÃ”MENO METEOROLÃ“GICO EM VOO\"\"   \n",
       "\n",
       "                          \"\"ocorrencia_tipo_categoria\"\"  \\\n",
       "0               \"\"FALHA OU MAU FUNCIONAMENTO DO MOTOR\"\"   \n",
       "1                       \"\"CONTATO ANORMAL COM A PISTA\"\"   \n",
       "2     \"\"COLISÃƒO COM OBSTÃCULO DURANTE A DECOLAGEM ...   \n",
       "3                                        \"\"AERÃ“DROMO\"\"   \n",
       "4                                            \"\"OUTROS\"\"   \n",
       "...                                                 ...   \n",
       "4623         \"\"PERDA DE SEPARAÃ‡ÃƒO / COLISÃƒO EM VOO\"\"   \n",
       "4624                                         \"\"OUTROS\"\"   \n",
       "4625  \"\"FALHA OU MAU FUNCIONAMENTO DE SISTEMA / COMP...   \n",
       "4626  \"\"FALHA OU MAU FUNCIONAMENTO DE SISTEMA / COMP...   \n",
       "4627                                         \"\"OUTROS\"\"   \n",
       "\n",
       "     \"\"ocorrencia_tipo_icao\"\" \"\"ocorrencia_latitude\"\"  \\\n",
       "0                  \"\"SCF-PP\"\"             \"\"-9.9085\"\"   \n",
       "1                     \"\"ARC\"\"            \"\"-11.4956\"\"   \n",
       "2                    \"\"CTOL\"\"            \"\"-11.2644\"\"   \n",
       "3                    \"\"ADRM\"\"            \"\"-11.4956\"\"   \n",
       "4                    \"\"OTHR\"\"            \"\"-13.1950\"\"   \n",
       "...                       ...                     ...   \n",
       "4623                  \"\"MAC\"\"              \"\"0.0000\"\"   \n",
       "4624                 \"\"OTHR\"\"              \"\"0.0000\"\"   \n",
       "4625               \"\"SCF-NP\"\"              \"\"0.0000\"\"   \n",
       "4626               \"\"SCF-NP\"\"              \"\"0.0000\"\"   \n",
       "4627                 \"\"OTHR\"\"              \"\"6.7119\"\"   \n",
       "\n",
       "     \"\"ocorrencia_longitude\"\"      \"\"ocorrencia_cidade\"\" \"\"ocorrencia_uf\"\"  \\\n",
       "0                \"\"-63.0333\"\"              \"\"ARIQUEMES\"\"            \"\"RO\"\"   \n",
       "1                \"\"-61.4508\"\"                 \"\"CACOAL\"\"            \"\"RO\"\"   \n",
       "2                \"\"-61.2589\"\"                 \"\"CACOAL\"\"            \"\"RO\"\"   \n",
       "3                \"\"-61.4508\"\"                 \"\"CACOAL\"\"            \"\"RO\"\"   \n",
       "4                \"\"-60.8184\"\"             \"\"CEREJEIRAS\"\"            \"\"RO\"\"   \n",
       "...                       ...                        ...               ...   \n",
       "4623               \"\"0.0000\"\"      \"\"NÃƒO IDENTIFICADA\"\"            \"\"AM\"\"   \n",
       "4624               \"\"0.0000\"\"      \"\"NÃƒO IDENTIFICADA\"\"            \"\"PE\"\"   \n",
       "4625               \"\"0.0000\"\"      \"\"NÃƒO IDENTIFICADA\"\"            \"\"RJ\"\"   \n",
       "4626               \"\"0.0000\"\"      \"\"NÃƒO IDENTIFICADA\"\"            \"\"SP\"\"   \n",
       "4627             \"\"-32.9919\"\"  \"\"ÃGUAS INTERNACIONAIS\"\"           \"\"***\"\"   \n",
       "\n",
       "     \"\"ocorrencia_pais\"\"  ... \"\"investigacao_status\"\"  \\\n",
       "0             \"\"BRASIL\"\"  ...          \"\"FINALIZADA\"\"   \n",
       "1             \"\"BRASIL\"\"  ...          \"\"FINALIZADA\"\"   \n",
       "2             \"\"BRASIL\"\"  ...          \"\"FINALIZADA\"\"   \n",
       "3             \"\"BRASIL\"\"  ...          \"\"FINALIZADA\"\"   \n",
       "4             \"\"BRASIL\"\"  ...          \"\"FINALIZADA\"\"   \n",
       "...                  ...  ...                     ...   \n",
       "4623          \"\"BRASIL\"\"  ...          \"\"FINALIZADA\"\"   \n",
       "4624          \"\"BRASIL\"\"  ...          \"\"FINALIZADA\"\"   \n",
       "4625          \"\"BRASIL\"\"  ...               \"\"ATIVA\"\"   \n",
       "4626          \"\"BRASIL\"\"  ...          \"\"FINALIZADA\"\"   \n",
       "4627          \"\"BRASIL\"\"  ...          \"\"FINALIZADA\"\"   \n",
       "\n",
       "     \"\"divulgacao_relatorio_numero\"\" \"\"divulgacao_relatorio_publicado\"\"  \\\n",
       "0                            \"\"***\"\"                           \"\"NÃƒO\"\"   \n",
       "1             \"\"IG-209/CENIPA/2013\"\"                            \"\"SIM\"\"   \n",
       "2             \"\"IG-084/CENIPA/2016\"\"                            \"\"SIM\"\"   \n",
       "3                            \"\"***\"\"                           \"\"NÃƒO\"\"   \n",
       "4                            \"\"***\"\"                           \"\"NÃƒO\"\"   \n",
       "...                              ...                                ...   \n",
       "4623                         \"\"***\"\"                           \"\"NÃƒO\"\"   \n",
       "4624                         \"\"***\"\"                           \"\"NÃƒO\"\"   \n",
       "4625          \"\"IG-027/CENIPA/2015\"\"                           \"\"NÃƒO\"\"   \n",
       "4626                         \"\"***\"\"                           \"\"NÃƒO\"\"   \n",
       "4627           \"\"A-158/CENIPA/2013\"\"                            \"\"SIM\"\"   \n",
       "\n",
       "     \"\"divulgacao_dia_publicacao\"\" \"\"total_recomendacoes\"\"  \\\n",
       "0                         \"\"NULL\"\"                   \"\"0\"\"   \n",
       "1                   \"\"2014-04-07\"\"                   \"\"0\"\"   \n",
       "2                   \"\"2019-03-11\"\"                   \"\"7\"\"   \n",
       "3                         \"\"NULL\"\"                   \"\"0\"\"   \n",
       "4                         \"\"NULL\"\"                   \"\"0\"\"   \n",
       "...                            ...                     ...   \n",
       "4623                      \"\"NULL\"\"                   \"\"0\"\"   \n",
       "4624                      \"\"NULL\"\"                   \"\"0\"\"   \n",
       "4625                      \"\"NULL\"\"                   \"\"0\"\"   \n",
       "4626                      \"\"NULL\"\"                   \"\"0\"\"   \n",
       "4627                \"\"2018-05-10\"\"                   \"\"2\"\"   \n",
       "\n",
       "     \"\"total_aeronaves_envolvidas\"\" \"\"ocorrencia_saida_pista\"\"  \\\n",
       "0                             \"\"1\"\"                   \"\"NÃƒO\"\"   \n",
       "1                             \"\"1\"\"                   \"\"NÃƒO\"\"   \n",
       "2                             \"\"1\"\"                   \"\"NÃƒO\"\"   \n",
       "3                             \"\"1\"\"                   \"\"NÃƒO\"\"   \n",
       "4                             \"\"1\"\"                   \"\"NÃƒO\"\"   \n",
       "...                             ...                        ...   \n",
       "4623                          \"\"1\"\"                   \"\"NÃƒO\"\"   \n",
       "4624                          \"\"1\"\"                   \"\"NÃƒO\"\"   \n",
       "4625                          \"\"1\"\"                   \"\"NÃƒO\"\"   \n",
       "4626                          \"\"1\"\"                   \"\"NÃƒO\"\"   \n",
       "4627                          \"\"1\"\"                   \"\"NÃƒO\"\"   \n",
       "\n",
       "     \"\"ocorrencia_dia_extracao\"\"\" Unnamed: 22 Unnamed: 23  \n",
       "0                 \"\"2019-05-31\"\"\"         NaN         NaN  \n",
       "1                 \"\"2019-05-31\"\"\"         NaN         NaN  \n",
       "2                 \"\"2019-05-31\"\"\"         NaN         NaN  \n",
       "3                 \"\"2019-05-31\"\"\"         NaN         NaN  \n",
       "4                 \"\"2019-05-31\"\"\"         NaN         NaN  \n",
       "...                           ...         ...         ...  \n",
       "4623              \"\"2019-05-31\"\"\"         NaN         NaN  \n",
       "4624              \"\"2019-05-31\"\"\"         NaN         NaN  \n",
       "4625              \"\"2019-05-31\"\"\"         NaN         NaN  \n",
       "4626              \"\"2019-05-31\"\"\"         NaN         NaN  \n",
       "4627              \"\"2019-05-31\"\"\"         NaN         NaN  \n",
       "\n",
       "[4628 rows x 24 columns]>"
      ]
     },
     "execution_count": 11,
     "metadata": {},
     "output_type": "execute_result"
    }
   ],
   "source": [
    "new.describe"
   ]
  },
  {
   "cell_type": "code",
   "execution_count": 12,
   "metadata": {},
   "outputs": [
    {
     "ename": "AttributeError",
     "evalue": "'DataFrame' object has no attribute 'matplotlib'",
     "output_type": "error",
     "traceback": [
      "\u001b[1;31m---------------------------------------------------------------------------\u001b[0m",
      "\u001b[1;31mAttributeError\u001b[0m                            Traceback (most recent call last)",
      "\u001b[1;32m<ipython-input-12-7ad5760cafa5>\u001b[0m in \u001b[0;36m<module>\u001b[1;34m\u001b[0m\n\u001b[1;32m----> 1\u001b[1;33m \u001b[0mnew\u001b[0m\u001b[1;33m.\u001b[0m\u001b[0mmatplotlib\u001b[0m\u001b[1;33m.\u001b[0m\u001b[0mpyplot\u001b[0m\u001b[1;33m.\u001b[0m\u001b[0mshow\u001b[0m\u001b[1;33m(\u001b[0m\u001b[1;33m)\u001b[0m\u001b[1;33m\u001b[0m\u001b[1;33m\u001b[0m\u001b[0m\n\u001b[0m",
      "\u001b[1;32m~\\Anaconda3\\lib\\site-packages\\pandas\\core\\generic.py\u001b[0m in \u001b[0;36m__getattr__\u001b[1;34m(self, name)\u001b[0m\n\u001b[0;32m   5177\u001b[0m             \u001b[1;32mif\u001b[0m \u001b[0mself\u001b[0m\u001b[1;33m.\u001b[0m\u001b[0m_info_axis\u001b[0m\u001b[1;33m.\u001b[0m\u001b[0m_can_hold_identifiers_and_holds_name\u001b[0m\u001b[1;33m(\u001b[0m\u001b[0mname\u001b[0m\u001b[1;33m)\u001b[0m\u001b[1;33m:\u001b[0m\u001b[1;33m\u001b[0m\u001b[1;33m\u001b[0m\u001b[0m\n\u001b[0;32m   5178\u001b[0m                 \u001b[1;32mreturn\u001b[0m \u001b[0mself\u001b[0m\u001b[1;33m[\u001b[0m\u001b[0mname\u001b[0m\u001b[1;33m]\u001b[0m\u001b[1;33m\u001b[0m\u001b[1;33m\u001b[0m\u001b[0m\n\u001b[1;32m-> 5179\u001b[1;33m             \u001b[1;32mreturn\u001b[0m \u001b[0mobject\u001b[0m\u001b[1;33m.\u001b[0m\u001b[0m__getattribute__\u001b[0m\u001b[1;33m(\u001b[0m\u001b[0mself\u001b[0m\u001b[1;33m,\u001b[0m \u001b[0mname\u001b[0m\u001b[1;33m)\u001b[0m\u001b[1;33m\u001b[0m\u001b[1;33m\u001b[0m\u001b[0m\n\u001b[0m\u001b[0;32m   5180\u001b[0m \u001b[1;33m\u001b[0m\u001b[0m\n\u001b[0;32m   5181\u001b[0m     \u001b[1;32mdef\u001b[0m \u001b[0m__setattr__\u001b[0m\u001b[1;33m(\u001b[0m\u001b[0mself\u001b[0m\u001b[1;33m,\u001b[0m \u001b[0mname\u001b[0m\u001b[1;33m,\u001b[0m \u001b[0mvalue\u001b[0m\u001b[1;33m)\u001b[0m\u001b[1;33m:\u001b[0m\u001b[1;33m\u001b[0m\u001b[1;33m\u001b[0m\u001b[0m\n",
      "\u001b[1;31mAttributeError\u001b[0m: 'DataFrame' object has no attribute 'matplotlib'"
     ]
    }
   ],
   "source": [
    "new.matplotlib.pyplot.show()"
   ]
  },
  {
   "cell_type": "code",
   "execution_count": 13,
   "metadata": {},
   "outputs": [
    {
     "ename": "NameError",
     "evalue": "name 'matplotlib' is not defined",
     "output_type": "error",
     "traceback": [
      "\u001b[1;31m---------------------------------------------------------------------------\u001b[0m",
      "\u001b[1;31mNameError\u001b[0m                                 Traceback (most recent call last)",
      "\u001b[1;32m<ipython-input-13-bc1532f27aad>\u001b[0m in \u001b[0;36m<module>\u001b[1;34m\u001b[0m\n\u001b[1;32m----> 1\u001b[1;33m \u001b[0mmatplotlib\u001b[0m\u001b[1;33m.\u001b[0m\u001b[0mpyplot\u001b[0m\u001b[1;33m.\u001b[0m\u001b[0mshow\u001b[0m\u001b[1;33m(\u001b[0m\u001b[1;33m)\u001b[0m\u001b[1;33m\u001b[0m\u001b[1;33m\u001b[0m\u001b[0m\n\u001b[0m",
      "\u001b[1;31mNameError\u001b[0m: name 'matplotlib' is not defined"
     ]
    }
   ],
   "source": [
    "matplotlib.pyplot.show()"
   ]
  },
  {
   "cell_type": "code",
   "execution_count": 14,
   "metadata": {},
   "outputs": [
    {
     "ename": "NameError",
     "evalue": "name 'plt' is not defined",
     "output_type": "error",
     "traceback": [
      "\u001b[1;31m---------------------------------------------------------------------------\u001b[0m",
      "\u001b[1;31mNameError\u001b[0m                                 Traceback (most recent call last)",
      "\u001b[1;32m<ipython-input-14-897d8fc00151>\u001b[0m in \u001b[0;36m<module>\u001b[1;34m\u001b[0m\n\u001b[1;32m----> 1\u001b[1;33m \u001b[0mplt\u001b[0m\u001b[1;33m.\u001b[0m\u001b[0mpyplot\u001b[0m\u001b[1;33m.\u001b[0m\u001b[0mshow\u001b[0m\u001b[1;33m(\u001b[0m\u001b[1;33m)\u001b[0m\u001b[1;33m\u001b[0m\u001b[1;33m\u001b[0m\u001b[0m\n\u001b[0m",
      "\u001b[1;31mNameError\u001b[0m: name 'plt' is not defined"
     ]
    }
   ],
   "source": [
    "plt.pyplot.show()"
   ]
  },
  {
   "cell_type": "code",
   "execution_count": 15,
   "metadata": {},
   "outputs": [
    {
     "ename": "ModuleNotFoundError",
     "evalue": "No module named 'matplot'",
     "output_type": "error",
     "traceback": [
      "\u001b[1;31m---------------------------------------------------------------------------\u001b[0m",
      "\u001b[1;31mModuleNotFoundError\u001b[0m                       Traceback (most recent call last)",
      "\u001b[1;32m<ipython-input-15-9669cae5d6fe>\u001b[0m in \u001b[0;36m<module>\u001b[1;34m\u001b[0m\n\u001b[1;32m----> 1\u001b[1;33m \u001b[1;32mimport\u001b[0m \u001b[0mmatplot\u001b[0m\u001b[1;33m.\u001b[0m\u001b[0mpyplot\u001b[0m \u001b[1;32mas\u001b[0m \u001b[0mplt\u001b[0m\u001b[1;33m\u001b[0m\u001b[1;33m\u001b[0m\u001b[0m\n\u001b[0m",
      "\u001b[1;31mModuleNotFoundError\u001b[0m: No module named 'matplot'"
     ]
    }
   ],
   "source": [
    "import matplot.pyplot as plt"
   ]
  },
  {
   "cell_type": "code",
   "execution_count": 16,
   "metadata": {},
   "outputs": [],
   "source": [
    "import matplotlib.pyplot as plt"
   ]
  },
  {
   "cell_type": "code",
   "execution_count": 17,
   "metadata": {},
   "outputs": [],
   "source": [
    "plt.show()"
   ]
  },
  {
   "cell_type": "code",
   "execution_count": 18,
   "metadata": {},
   "outputs": [
    {
     "ename": "NameError",
     "evalue": "name 'codigo_ocorrencia' is not defined",
     "output_type": "error",
     "traceback": [
      "\u001b[1;31m---------------------------------------------------------------------------\u001b[0m",
      "\u001b[1;31mNameError\u001b[0m                                 Traceback (most recent call last)",
      "\u001b[1;32m<ipython-input-18-ac24c824c354>\u001b[0m in \u001b[0;36m<module>\u001b[1;34m\u001b[0m\n\u001b[1;32m----> 1\u001b[1;33m \u001b[0mplt\u001b[0m\u001b[1;33m.\u001b[0m\u001b[0mplot\u001b[0m\u001b[1;33m(\u001b[0m\u001b[0mcodigo_ocorrencia\u001b[0m\u001b[1;33m)\u001b[0m\u001b[1;33m\u001b[0m\u001b[1;33m\u001b[0m\u001b[0m\n\u001b[0m\u001b[0;32m      2\u001b[0m \u001b[0mplt\u001b[0m\u001b[1;33m.\u001b[0m\u001b[0mylim\u001b[0m\u001b[1;33m(\u001b[0m\u001b[1;36m100000\u001b[0m\u001b[1;33m,\u001b[0m \u001b[1;36m120000\u001b[0m\u001b[1;33m)\u001b[0m\u001b[1;33m\u001b[0m\u001b[1;33m\u001b[0m\u001b[0m\n\u001b[0;32m      3\u001b[0m \u001b[0mplt\u001b[0m\u001b[1;33m.\u001b[0m\u001b[0mshow\u001b[0m\u001b[1;33m(\u001b[0m\u001b[1;33m)\u001b[0m\u001b[1;33m\u001b[0m\u001b[1;33m\u001b[0m\u001b[0m\n",
      "\u001b[1;31mNameError\u001b[0m: name 'codigo_ocorrencia' is not defined"
     ]
    }
   ],
   "source": [
    "plt.plot(codigo_ocorrencia)\n",
    "plt.ylim(100000, 120000)\n",
    "plt.show()"
   ]
  },
  {
   "cell_type": "code",
   "execution_count": 19,
   "metadata": {},
   "outputs": [
    {
     "ename": "SyntaxError",
     "evalue": "EOL while scanning string literal (<ipython-input-19-8f6321e0d0ae>, line 1)",
     "output_type": "error",
     "traceback": [
      "\u001b[1;36m  File \u001b[1;32m\"<ipython-input-19-8f6321e0d0ae>\"\u001b[1;36m, line \u001b[1;32m1\u001b[0m\n\u001b[1;33m    plt.plot(\"codigo_ocorrencia)\u001b[0m\n\u001b[1;37m                                ^\u001b[0m\n\u001b[1;31mSyntaxError\u001b[0m\u001b[1;31m:\u001b[0m EOL while scanning string literal\n"
     ]
    }
   ],
   "source": [
    "plt.plot(\"codigo_ocorrencia)\n",
    "plt.ylim(100000, 120000)\n",
    "plt.show()"
   ]
  },
  {
   "cell_type": "code",
   "execution_count": 29,
   "metadata": {},
   "outputs": [
    {
     "ename": "SyntaxError",
     "evalue": "invalid syntax (<ipython-input-29-cb977fdaf277>, line 3)",
     "output_type": "error",
     "traceback": [
      "\u001b[1;36m  File \u001b[1;32m\"<ipython-input-29-cb977fdaf277>\"\u001b[1;36m, line \u001b[1;32m3\u001b[0m\n\u001b[1;33m    while (\"\"ocorrencia_latitude\"\">9)\u001b[0m\n\u001b[1;37m                               ^\u001b[0m\n\u001b[1;31mSyntaxError\u001b[0m\u001b[1;31m:\u001b[0m invalid syntax\n"
     ]
    }
   ],
   "source": [
    "plt.plot('\"codigo_ocorrencia,\"\"ocorrencia_cidade\"\",\"\"ocorrencia_latitude\"\"')\n",
    "\n",
    "while (\"\"ocorrencia_latitude\"\">9)\n",
    "plt.show()"
   ]
  },
  {
   "cell_type": "code",
   "execution_count": 25,
   "metadata": {},
   "outputs": [
    {
     "data": {
      "text/plain": [
       "Text(0, 0.5, 'estado')"
      ]
     },
     "execution_count": 25,
     "metadata": {},
     "output_type": "execute_result"
    },
    {
     "data": {
      "image/png": "[encoded data removed]",
      "text/plain": [
       "<Figure size 432x288 with 1 Axes>"
      ]
     },
     "metadata": {
      "needs_background": "light"
     },
     "output_type": "display_data"
    }
   ],
   "source": [
    "plt.xlabel('num incidentes')\n",
    "plt.ylabel('estado')"
   ]
  },
  {
   "cell_type": "code",
   "execution_count": 30,
   "metadata": {},
   "outputs": [],
   "source": [
    "plt.show()"
   ]
  },
  {
   "cell_type": "code",
   "execution_count": 32,
   "metadata": {},
   "outputs": [
    {
     "ename": "TypeError",
     "evalue": "'module' object is not subscriptable",
     "output_type": "error",
     "traceback": [
      "\u001b[1;31m---------------------------------------------------------------------------\u001b[0m",
      "\u001b[1;31mTypeError\u001b[0m                                 Traceback (most recent call last)",
      "\u001b[1;32m<ipython-input-32-b2c4e2d7bdd2>\u001b[0m in \u001b[0;36m<module>\u001b[1;34m\u001b[0m\n\u001b[1;32m----> 1\u001b[1;33m \u001b[0mplt\u001b[0m\u001b[1;33m[\u001b[0m\u001b[0mplt\u001b[0m\u001b[1;33m[\u001b[0m\u001b[1;34m'\"\"ocorrencia_longitude\"\"'\u001b[0m\u001b[1;33m]\u001b[0m \u001b[1;33m%\u001b[0m \u001b[1;36m2\u001b[0m \u001b[1;33m==\u001b[0m \u001b[1;36m0\u001b[0m\u001b[1;33m]\u001b[0m\u001b[1;33m\u001b[0m\u001b[1;33m\u001b[0m\u001b[0m\n\u001b[0m",
      "\u001b[1;31mTypeError\u001b[0m: 'module' object is not subscriptable"
     ]
    }
   ],
   "source": [
    "plt[plt['\"\"ocorrencia_longitude\"\"'] % 2 == 0]"
   ]
  },
  {
   "cell_type": "code",
   "execution_count": null,
   "metadata": {},
   "outputs": [],
   "source": []
  }
 ],
 "metadata": {
  "kernelspec": {
   "display_name": "Python 3",
   "language": "python",
   "name": "python3"
  },
  "language_info": {
   "codemirror_mode": {
    "name": "ipython",
    "version": 3
   },
   "file_extension": ".py",
   "mimetype": "text/x-python",
   "name": "python",
   "nbconvert_exporter": "python",
   "pygments_lexer": "ipython3",
   "version": "3.7.4"
  }
 },
 "nbformat": 4,
 "nbformat_minor": 2
}
