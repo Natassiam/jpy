{
  "nbformat": 4,
  "nbformat_minor": 0,
  "metadata": {
    "colab": {
      "name": "union_intersection.ipynb",
      "provenance": [],
      "authorship_tag": "ABX9TyOO1IX0k5q/Ba8OdbYaF2Nq",
      "include_colab_link": true
    },
    "kernelspec": {
      "name": "python3",
      "display_name": "Python 3"
    }
  },
  "cells": [
    {
      "cell_type": "markdown",
      "metadata": {
        "id": "view-in-github",
        "colab_type": "text"
      },
      "source": [
        "<a href=\"https://colab.research.google.com/github/Natassiam/jpy/blob/master/union_intersection.ipynb\" target=\"_parent\"><img src=\"https://colab.research.google.com/assets/colab-badge.svg\" alt=\"Open In Colab\"/></a>"
      ]
    },
    {
      "cell_type": "code",
      "metadata": {
        "id": "IpnPW2boQo8i",
        "outputId": "a5dde50d-0b80-4436-ac1c-628313db2ba1",
        "colab": {
          "base_uri": "https://localhost:8080/",
          "height": 34
        }
      },
      "source": [
        " def intersecao(conjuntoA, conjuntoB):\n",
        "        inter = []\n",
        "        for x in conjuntoA:\n",
        "            for y in conjuntoB:\n",
        "                if x == y:\n",
        "                    inter.append(x)\n",
        "        return inter\n",
        "\n",
        "a = [2,4,6,7,10]\n",
        "b = [3,4,6,8,10,11]\n",
        "print(intersecao(a,b))"
      ],
      "execution_count": 18,
      "outputs": [
        {
          "output_type": "stream",
          "text": [
            "[4, 6, 10]\n"
          ],
          "name": "stdout"
        }
      ]
    },
    {
      "cell_type": "code",
      "metadata": {
        "id": "F8p9Y155RCPk",
        "outputId": "64d830c2-9789-4d8b-a6f5-05d7aab49912",
        "colab": {
          "base_uri": "https://localhost:8080/",
          "height": 34
        }
      },
      "source": [
        " def uniao(conjuntoA, conjuntoB):\n",
        "    uni = []\n",
        "    for x in conjuntoA:\n",
        "      uni.append(x)\n",
        "      for i in conjuntoB:\n",
        "        if i in uni:\n",
        "          pass\n",
        "        else:\n",
        "          uni.append(i)\n",
        "      return uni\n",
        "\n",
        "a = [2,4,6,7,10]\n",
        "b = [3,4,6,8,10,11]\n",
        "print(uniao(a,b))"
      ],
      "execution_count": 24,
      "outputs": [
        {
          "output_type": "stream",
          "text": [
            "[2, 3, 4, 6, 8, 10, 11]\n"
          ],
          "name": "stdout"
        }
      ]
    },
    {
      "cell_type": "code",
      "metadata": {
        "id": "h4JwmvwjYwQP"
      },
      "source": [
        ""
      ],
      "execution_count": null,
      "outputs": []
    }
  ]
}