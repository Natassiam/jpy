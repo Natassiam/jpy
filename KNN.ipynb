{
  "nbformat": 4,
  "nbformat_minor": 0,
  "metadata": {
    "colab": {
      "name": "KNN.ipynb",
      "provenance": [],
      "authorship_tag": "ABX9TyPSmLlUQgp1U+HRB6Q1Aqc7",
      "include_colab_link": true
    },
    "kernelspec": {
      "name": "python3",
      "display_name": "Python 3"
    }
  },
  "cells": [
    {
      "cell_type": "markdown",
      "metadata": {
        "id": "view-in-github",
        "colab_type": "text"
      },
      "source": [
        "<a href=\"https://colab.research.google.com/github/Natassiam/jpy/blob/master/KNN.ipynb\" target=\"_parent\"><img src=\"https://colab.research.google.com/assets/colab-badge.svg\" alt=\"Open In Colab\"/></a>"
      ]
    },
    {
      "cell_type": "code",
      "metadata": {
        "id": "jWIzIDfOzFq3"
      },
      "source": [
        "import pandas as pd\r\n",
        "import numpy as np\r\n",
        "from sklearn import preprocessing"
      ],
      "execution_count": 1,
      "outputs": []
    },
    {
      "cell_type": "code",
      "metadata": {
        "id": "Zw36rj1Oz_rO"
      },
      "source": [
        "names = ['age', 'workclass', 'fnlwgt', 'education', 'education-num',\r\n",
        "         'marital-status', 'occupation', 'relationship', 'race', 'sex', \r\n",
        "        'capital-gain', 'capital-loss', 'hours-per-week','native-country', \r\n",
        "        'class']"
      ],
      "execution_count": 2,
      "outputs": []
    },
    {
      "cell_type": "code",
      "metadata": {
        "id": "R9Spllfb0xrI"
      },
      "source": [
        "df = pd.read_csv('adult.data', header=None, names=names)"
      ],
      "execution_count": 7,
      "outputs": []
    },
    {
      "cell_type": "code",
      "metadata": {
        "id": "UtOmZroa1JH1"
      },
      "source": [
        "df = df.drop(['fnlwgt','education-num'], axis=1)"
      ],
      "execution_count": 8,
      "outputs": []
    },
    {
      "cell_type": "code",
      "metadata": {
        "id": "IG9dBrTi1RMy"
      },
      "source": [
        "non_numerical = ['workclass', 'education', 'marital-status', 'occupation', \r\n",
        "'relationship', 'race', 'sex', 'native-country']\r\n",
        "le = preprocessing.LabelEncoder()\r\n",
        "for x in non_numerical:\r\n",
        "    le.fit(df[x])\r\n",
        "    df[x] = le.transform(df[x].astype(str))"
      ],
      "execution_count": 9,
      "outputs": []
    },
    {
      "cell_type": "code",
      "metadata": {
        "id": "MMXwyAuD1VaY"
      },
      "source": [
        "X = np.array(df.iloc[:, 0:12]) \t# features\r\n",
        "y = np.array(df['class'])   #classes"
      ],
      "execution_count": 10,
      "outputs": []
    },
    {
      "cell_type": "code",
      "metadata": {
        "id": "s3XGD4xF1pJE"
      },
      "source": [
        "neighbors = list(range(1,50,2))"
      ],
      "execution_count": 11,
      "outputs": []
    },
    {
      "cell_type": "code",
      "metadata": {
        "id": "r0Hl6zN21sRu"
      },
      "source": [
        "cv_list = list(range(10,40))"
      ],
      "execution_count": 12,
      "outputs": []
    },
    {
      "cell_type": "code",
      "metadata": {
        "id": "jkdT2sOt1u2c"
      },
      "source": [
        "k_list = []\r\n",
        "fold_list = []\r\n",
        "cv_scores = []"
      ],
      "execution_count": 13,
      "outputs": []
    },
    {
      "cell_type": "code",
      "metadata": {
        "id": "RHHNAlGQ1y_3"
      },
      "source": [
        "from sklearn.neighbors import KNeighborsClassifier\r\n",
        "from sklearn.model_selection import cross_val_score\r\n",
        "from sklearn import preprocessing"
      ],
      "execution_count": 14,
      "outputs": []
    },
    {
      "cell_type": "code",
      "metadata": {
        "id": "cqap8OHD10Jg"
      },
      "source": [
        "for k in neighbors:\r\n",
        "  for f in cv_list:\r\n",
        "      knn = KNeighborsClassifier(n_neighbors=k)\r\n",
        "      scores = cross_val_score(knn, X, y, cv=f, scoring='accuracy')\r\n",
        "      cv_scores.append(scores.mean())  #popular listas\r\n",
        "      k_list.append(k)                 \r\n",
        "      fold_list.append(f)    "
      ],
      "execution_count": null,
      "outputs": []
    }
  ]
}